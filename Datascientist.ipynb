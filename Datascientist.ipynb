{
 "cells": [
  {
   "cell_type": "markdown",
   "id": "66124994",
   "metadata": {},
   "source": [
    "# Importing Libraries"
   ]
  },
  {
   "cell_type": "code",
   "execution_count": 27,
   "id": "83fb49d2",
   "metadata": {},
   "outputs": [],
   "source": [
    "import numpy as np\n",
    "import pandas as pd\n",
    "import os\n",
    "import matplotlib.pyplot as plt \n",
    "import seaborn as sns\n",
    "import sys"
   ]
  },
  {
   "cell_type": "markdown",
   "id": "0020046d",
   "metadata": {},
   "source": [
    "# Load the data"
   ]
  },
  {
   "cell_type": "code",
   "execution_count": 28,
   "id": "19ca6930",
   "metadata": {},
   "outputs": [
    {
     "data": {
      "text/html": [
       "<div>\n",
       "<style scoped>\n",
       "    .dataframe tbody tr th:only-of-type {\n",
       "        vertical-align: middle;\n",
       "    }\n",
       "\n",
       "    .dataframe tbody tr th {\n",
       "        vertical-align: top;\n",
       "    }\n",
       "\n",
       "    .dataframe thead th {\n",
       "        text-align: right;\n",
       "    }\n",
       "</style>\n",
       "<table border=\"1\" class=\"dataframe\">\n",
       "  <thead>\n",
       "    <tr style=\"text-align: right;\">\n",
       "      <th></th>\n",
       "      <th>Rating</th>\n",
       "      <th>Company</th>\n",
       "      <th>Average</th>\n",
       "      <th>Lowest</th>\n",
       "      <th>Highest</th>\n",
       "      <th>yr/mo/hr</th>\n",
       "    </tr>\n",
       "  </thead>\n",
       "  <tbody>\n",
       "    <tr>\n",
       "      <th>0</th>\n",
       "      <td>3.6</td>\n",
       "      <td>Tech Mahindra</td>\n",
       "      <td>937156</td>\n",
       "      <td>4,18,054</td>\n",
       "      <td>23,35,432</td>\n",
       "      <td>/yr</td>\n",
       "    </tr>\n",
       "    <tr>\n",
       "      <th>1</th>\n",
       "      <td>3.7</td>\n",
       "      <td>Optum</td>\n",
       "      <td>1508702</td>\n",
       "      <td>8,87,265</td>\n",
       "      <td>24,00,000</td>\n",
       "      <td>/yr</td>\n",
       "    </tr>\n",
       "    <tr>\n",
       "      <th>2</th>\n",
       "      <td>4.1</td>\n",
       "      <td>Fresher</td>\n",
       "      <td>540557</td>\n",
       "      <td>1,89,354</td>\n",
       "      <td>14,72,751</td>\n",
       "      <td>/yr</td>\n",
       "    </tr>\n",
       "    <tr>\n",
       "      <th>3</th>\n",
       "      <td>3.7</td>\n",
       "      <td>HCL Technologies</td>\n",
       "      <td>887986</td>\n",
       "      <td>4,16,339</td>\n",
       "      <td>19,26,785</td>\n",
       "      <td>/yr</td>\n",
       "    </tr>\n",
       "    <tr>\n",
       "      <th>4</th>\n",
       "      <td>3.9</td>\n",
       "      <td>Genpact</td>\n",
       "      <td>972181</td>\n",
       "      <td>2,49,195</td>\n",
       "      <td>23,82,853</td>\n",
       "      <td>/yr</td>\n",
       "    </tr>\n",
       "    <tr>\n",
       "      <th>...</th>\n",
       "      <td>...</td>\n",
       "      <td>...</td>\n",
       "      <td>...</td>\n",
       "      <td>...</td>\n",
       "      <td>...</td>\n",
       "      <td>...</td>\n",
       "    </tr>\n",
       "    <tr>\n",
       "      <th>4095</th>\n",
       "      <td>4.5</td>\n",
       "      <td>Google</td>\n",
       "      <td>58,77,867</td>\n",
       "      <td>70,05,287</td>\n",
       "      <td>76,89,380</td>\n",
       "      <td>/mo</td>\n",
       "    </tr>\n",
       "    <tr>\n",
       "      <th>4096</th>\n",
       "      <td>3.6</td>\n",
       "      <td>Bookmyshow</td>\n",
       "      <td>2,44,504</td>\n",
       "      <td>2,92,593</td>\n",
       "      <td>3,18,666</td>\n",
       "      <td>/mo</td>\n",
       "    </tr>\n",
       "    <tr>\n",
       "      <th>4097</th>\n",
       "      <td>3.9</td>\n",
       "      <td>Philips</td>\n",
       "      <td>1,63,488</td>\n",
       "      <td>1,96,938</td>\n",
       "      <td>2,11,783</td>\n",
       "      <td>/mo</td>\n",
       "    </tr>\n",
       "    <tr>\n",
       "      <th>4098</th>\n",
       "      <td>3.5</td>\n",
       "      <td>CL Educate</td>\n",
       "      <td>49,324</td>\n",
       "      <td>59,388</td>\n",
       "      <td>63,923</td>\n",
       "      <td>/mo</td>\n",
       "    </tr>\n",
       "    <tr>\n",
       "      <th>4099</th>\n",
       "      <td>4.5</td>\n",
       "      <td>Innodatatics</td>\n",
       "      <td>21,680</td>\n",
       "      <td>26,082</td>\n",
       "      <td>28,117</td>\n",
       "      <td>/mo</td>\n",
       "    </tr>\n",
       "  </tbody>\n",
       "</table>\n",
       "<p>4100 rows × 6 columns</p>\n",
       "</div>"
      ],
      "text/plain": [
       "      Rating           Company    Average     Lowest    Highest yr/mo/hr\n",
       "0        3.6     Tech Mahindra     937156   4,18,054  23,35,432      /yr\n",
       "1        3.7             Optum    1508702   8,87,265  24,00,000      /yr\n",
       "2        4.1           Fresher     540557   1,89,354  14,72,751      /yr\n",
       "3        3.7  HCL Technologies     887986   4,16,339  19,26,785      /yr\n",
       "4        3.9           Genpact     972181   2,49,195  23,82,853      /yr\n",
       "...      ...               ...        ...        ...        ...      ...\n",
       "4095     4.5            Google  58,77,867  70,05,287  76,89,380      /mo\n",
       "4096     3.6        Bookmyshow   2,44,504   2,92,593   3,18,666      /mo\n",
       "4097     3.9           Philips   1,63,488   1,96,938   2,11,783      /mo\n",
       "4098     3.5        CL Educate     49,324     59,388     63,923      /mo\n",
       "4099     4.5      Innodatatics     21,680     26,082     28,117      /mo\n",
       "\n",
       "[4100 rows x 6 columns]"
      ]
     },
     "execution_count": 28,
     "metadata": {},
     "output_type": "execute_result"
    }
   ],
   "source": [
    "salary=pd.read_csv(\"Final.csv\",encoding='latin-1')\n",
    "salary"
   ]
  },
  {
   "cell_type": "code",
   "execution_count": 29,
   "id": "8fda0514",
   "metadata": {},
   "outputs": [
    {
     "name": "stdout",
     "output_type": "stream",
     "text": [
      "<class 'pandas.core.frame.DataFrame'>\n",
      "RangeIndex: 4100 entries, 0 to 4099\n",
      "Data columns (total 6 columns):\n",
      " #   Column    Non-Null Count  Dtype  \n",
      "---  ------    --------------  -----  \n",
      " 0   Rating    3854 non-null   float64\n",
      " 1   Company   4100 non-null   object \n",
      " 2   Average   4100 non-null   object \n",
      " 3   Lowest    4100 non-null   object \n",
      " 4   Highest   4100 non-null   object \n",
      " 5   yr/mo/hr  4100 non-null   object \n",
      "dtypes: float64(1), object(5)\n",
      "memory usage: 192.3+ KB\n"
     ]
    }
   ],
   "source": [
    "salary.info() "
   ]
  },
  {
   "cell_type": "markdown",
   "id": "5486eb0f",
   "metadata": {},
   "source": [
    "# Data Cleaning"
   ]
  },
  {
   "cell_type": "markdown",
   "id": "2cbaa3d6",
   "metadata": {},
   "source": [
    "# Salary Colums as object data type, lets convert into int type \n"
   ]
  },
  {
   "cell_type": "code",
   "execution_count": 30,
   "id": "24d85ec2",
   "metadata": {},
   "outputs": [],
   "source": [
    "salary['Lowest'] = salary['Lowest'].str.replace(',', '').astype(int)\n",
    "salary['Highest']= salary['Highest'].str.replace(',', '').astype(int)\n",
    "salary['Average']= salary['Average'].str.replace(',', '').astype(int)\n"
   ]
  },
  {
   "cell_type": "code",
   "execution_count": 31,
   "id": "38c5aeb2",
   "metadata": {},
   "outputs": [
    {
     "data": {
      "text/plain": [
       "/yr    3907\n",
       "/mo     188\n",
       "/hr       5\n",
       "Name: yr/mo/hr, dtype: int64"
      ]
     },
     "execution_count": 31,
     "metadata": {},
     "output_type": "execute_result"
    }
   ],
   "source": [
    "salary['yr/mo/hr'].value_counts()"
   ]
  },
  {
   "cell_type": "markdown",
   "id": "5fbcefc5",
   "metadata": {},
   "source": [
    "# Salaries as per /yr/mo/hr"
   ]
  },
  {
   "cell_type": "markdown",
   "id": "fe8b40b1",
   "metadata": {},
   "source": [
    "# Standardize the salaries according to yearwise salary"
   ]
  },
  {
   "cell_type": "code",
   "execution_count": 35,
   "id": "02975350",
   "metadata": {},
   "outputs": [
    {
     "name": "stderr",
     "output_type": "stream",
     "text": [
      "<ipython-input-35-2d95abb2da2f>:6: SettingWithCopyWarning: \n",
      "A value is trying to be set on a copy of a slice from a DataFrame\n",
      "\n",
      "See the caveats in the documentation: https://pandas.pydata.org/pandas-docs/stable/user_guide/indexing.html#returning-a-view-versus-a-copy\n",
      "  salary['Average'].loc[salary['yr/mo/hr'] == '/hr'] = salary['Average'].loc[salary['yr/mo/hr'] == '/hr']* 40 * 4\n",
      "<ipython-input-35-2d95abb2da2f>:7: SettingWithCopyWarning: \n",
      "A value is trying to be set on a copy of a slice from a DataFrame\n",
      "\n",
      "See the caveats in the documentation: https://pandas.pydata.org/pandas-docs/stable/user_guide/indexing.html#returning-a-view-versus-a-copy\n",
      "  salary['Lowest'].loc[salary['yr/mo/hr'] == '/hr'] = salary['Lowest'].loc[salary['yr/mo/hr'] == '/hr']* 40 * 4\n",
      "<ipython-input-35-2d95abb2da2f>:8: SettingWithCopyWarning: \n",
      "A value is trying to be set on a copy of a slice from a DataFrame\n",
      "\n",
      "See the caveats in the documentation: https://pandas.pydata.org/pandas-docs/stable/user_guide/indexing.html#returning-a-view-versus-a-copy\n",
      "  salary['Highest'].loc[salary['yr/mo/hr'] == '/hr'] = salary['Highest'].loc[salary['yr/mo/hr'] == '/hr']* 40 * 4\n",
      "<ipython-input-35-2d95abb2da2f>:9: SettingWithCopyWarning: \n",
      "A value is trying to be set on a copy of a slice from a DataFrame\n",
      "\n",
      "See the caveats in the documentation: https://pandas.pydata.org/pandas-docs/stable/user_guide/indexing.html#returning-a-view-versus-a-copy\n",
      "  salary['yr/mo/hr'].loc[salary['yr/mo/hr'] == '/hr'] = '/mo'\n",
      "<ipython-input-35-2d95abb2da2f>:12: SettingWithCopyWarning: \n",
      "A value is trying to be set on a copy of a slice from a DataFrame\n",
      "\n",
      "See the caveats in the documentation: https://pandas.pydata.org/pandas-docs/stable/user_guide/indexing.html#returning-a-view-versus-a-copy\n",
      "  salary['Average'].loc[salary['yr/mo/hr'] == '/mo'] = salary['Average'].loc[salary['yr/mo/hr'] == '/mo'] * 12\n",
      "<ipython-input-35-2d95abb2da2f>:13: SettingWithCopyWarning: \n",
      "A value is trying to be set on a copy of a slice from a DataFrame\n",
      "\n",
      "See the caveats in the documentation: https://pandas.pydata.org/pandas-docs/stable/user_guide/indexing.html#returning-a-view-versus-a-copy\n",
      "  salary['Lowest'].loc[salary['yr/mo/hr'] == '/mo'] = salary['Lowest'].loc[salary['yr/mo/hr'] == '/mo'] * 12\n",
      "<ipython-input-35-2d95abb2da2f>:14: SettingWithCopyWarning: \n",
      "A value is trying to be set on a copy of a slice from a DataFrame\n",
      "\n",
      "See the caveats in the documentation: https://pandas.pydata.org/pandas-docs/stable/user_guide/indexing.html#returning-a-view-versus-a-copy\n",
      "  salary['Highest'].loc[salary['yr/mo/hr'] == '/mo'] = salary['Highest'].loc[salary['yr/mo/hr'] == '/mo'] * 12\n",
      "<ipython-input-35-2d95abb2da2f>:15: SettingWithCopyWarning: \n",
      "A value is trying to be set on a copy of a slice from a DataFrame\n",
      "\n",
      "See the caveats in the documentation: https://pandas.pydata.org/pandas-docs/stable/user_guide/indexing.html#returning-a-view-versus-a-copy\n",
      "  salary['yr/mo/hr'].loc[salary['yr/mo/hr'] == '/mo'] = '/yr'\n"
     ]
    }
   ],
   "source": [
    "#CONVERTING HOURLY SALARIES INTO MONTHWISE\n",
    "\n",
    "#The minimum average work hours in India are 40 hours per week & there are on average 4 working weeks per month\n",
    "#Average work hours for a month = 40 * 4 \n",
    "\n",
    "salary['Average'].loc[salary['yr/mo/hr'] == '/hr'] = salary['Average'].loc[salary['yr/mo/hr'] == '/hr']* 40 * 4\n",
    "salary['Lowest'].loc[salary['yr/mo/hr'] == '/hr'] = salary['Lowest'].loc[salary['yr/mo/hr'] == '/hr']* 40 * 4\n",
    "salary['Highest'].loc[salary['yr/mo/hr'] == '/hr'] = salary['Highest'].loc[salary['yr/mo/hr'] == '/hr']* 40 * 4\n",
    "salary['yr/mo/hr'].loc[salary['yr/mo/hr'] == '/hr'] = '/mo'\n",
    "\n",
    "##CONVERTING MONTHLY SALARIES INTO YEARWISE\n",
    "salary['Average'].loc[salary['yr/mo/hr'] == '/mo'] = salary['Average'].loc[salary['yr/mo/hr'] == '/mo'] * 12\n",
    "salary['Lowest'].loc[salary['yr/mo/hr'] == '/mo'] = salary['Lowest'].loc[salary['yr/mo/hr'] == '/mo'] * 12\n",
    "salary['Highest'].loc[salary['yr/mo/hr'] == '/mo'] = salary['Highest'].loc[salary['yr/mo/hr'] == '/mo'] * 12\n",
    "salary['yr/mo/hr'].loc[salary['yr/mo/hr'] == '/mo'] = '/yr'\n",
    "\n",
    "salary.drop('yr/mo/hr', axis=1, inplace=True)"
   ]
  },
  {
   "cell_type": "markdown",
   "id": "b640c1d0",
   "metadata": {},
   "source": [
    "# Checking the missing values"
   ]
  },
  {
   "cell_type": "code",
   "execution_count": 36,
   "id": "429c410c",
   "metadata": {},
   "outputs": [
    {
     "data": {
      "text/plain": [
       "Rating     246\n",
       "Company      0\n",
       "Average      0\n",
       "Lowest       0\n",
       "Highest      0\n",
       "dtype: int64"
      ]
     },
     "execution_count": 36,
     "metadata": {},
     "output_type": "execute_result"
    }
   ],
   "source": [
    "salary.isna().sum()"
   ]
  },
  {
   "cell_type": "code",
   "execution_count": 38,
   "id": "51d2f318",
   "metadata": {},
   "outputs": [
    {
     "data": {
      "text/html": [
       "<div>\n",
       "<style scoped>\n",
       "    .dataframe tbody tr th:only-of-type {\n",
       "        vertical-align: middle;\n",
       "    }\n",
       "\n",
       "    .dataframe tbody tr th {\n",
       "        vertical-align: top;\n",
       "    }\n",
       "\n",
       "    .dataframe thead th {\n",
       "        text-align: right;\n",
       "    }\n",
       "</style>\n",
       "<table border=\"1\" class=\"dataframe\">\n",
       "  <thead>\n",
       "    <tr style=\"text-align: right;\">\n",
       "      <th></th>\n",
       "      <th>Rating</th>\n",
       "      <th>Company</th>\n",
       "      <th>Average</th>\n",
       "      <th>Lowest</th>\n",
       "      <th>Highest</th>\n",
       "    </tr>\n",
       "  </thead>\n",
       "  <tbody>\n",
       "    <tr>\n",
       "      <th>0</th>\n",
       "      <td>3.6</td>\n",
       "      <td>Tech Mahindra</td>\n",
       "      <td>937156</td>\n",
       "      <td>418054</td>\n",
       "      <td>2335432</td>\n",
       "    </tr>\n",
       "    <tr>\n",
       "      <th>1</th>\n",
       "      <td>3.7</td>\n",
       "      <td>Optum</td>\n",
       "      <td>1508702</td>\n",
       "      <td>887265</td>\n",
       "      <td>2400000</td>\n",
       "    </tr>\n",
       "    <tr>\n",
       "      <th>2</th>\n",
       "      <td>4.1</td>\n",
       "      <td>Fresher</td>\n",
       "      <td>540557</td>\n",
       "      <td>189354</td>\n",
       "      <td>1472751</td>\n",
       "    </tr>\n",
       "    <tr>\n",
       "      <th>3</th>\n",
       "      <td>3.7</td>\n",
       "      <td>HCL Technologies</td>\n",
       "      <td>887986</td>\n",
       "      <td>416339</td>\n",
       "      <td>1926785</td>\n",
       "    </tr>\n",
       "    <tr>\n",
       "      <th>4</th>\n",
       "      <td>3.9</td>\n",
       "      <td>Genpact</td>\n",
       "      <td>972181</td>\n",
       "      <td>249195</td>\n",
       "      <td>2382853</td>\n",
       "    </tr>\n",
       "    <tr>\n",
       "      <th>...</th>\n",
       "      <td>...</td>\n",
       "      <td>...</td>\n",
       "      <td>...</td>\n",
       "      <td>...</td>\n",
       "      <td>...</td>\n",
       "    </tr>\n",
       "    <tr>\n",
       "      <th>4095</th>\n",
       "      <td>4.5</td>\n",
       "      <td>Google</td>\n",
       "      <td>70534404</td>\n",
       "      <td>84063444</td>\n",
       "      <td>92272560</td>\n",
       "    </tr>\n",
       "    <tr>\n",
       "      <th>4096</th>\n",
       "      <td>3.6</td>\n",
       "      <td>Bookmyshow</td>\n",
       "      <td>2934048</td>\n",
       "      <td>3511116</td>\n",
       "      <td>3823992</td>\n",
       "    </tr>\n",
       "    <tr>\n",
       "      <th>4097</th>\n",
       "      <td>3.9</td>\n",
       "      <td>Philips</td>\n",
       "      <td>1961856</td>\n",
       "      <td>2363256</td>\n",
       "      <td>2541396</td>\n",
       "    </tr>\n",
       "    <tr>\n",
       "      <th>4098</th>\n",
       "      <td>3.5</td>\n",
       "      <td>CL Educate</td>\n",
       "      <td>591888</td>\n",
       "      <td>712656</td>\n",
       "      <td>767076</td>\n",
       "    </tr>\n",
       "    <tr>\n",
       "      <th>4099</th>\n",
       "      <td>4.5</td>\n",
       "      <td>Innodatatics</td>\n",
       "      <td>260160</td>\n",
       "      <td>312984</td>\n",
       "      <td>337404</td>\n",
       "    </tr>\n",
       "  </tbody>\n",
       "</table>\n",
       "<p>3854 rows × 5 columns</p>\n",
       "</div>"
      ],
      "text/plain": [
       "      Rating           Company   Average    Lowest   Highest\n",
       "0        3.6     Tech Mahindra    937156    418054   2335432\n",
       "1        3.7             Optum   1508702    887265   2400000\n",
       "2        4.1           Fresher    540557    189354   1472751\n",
       "3        3.7  HCL Technologies    887986    416339   1926785\n",
       "4        3.9           Genpact    972181    249195   2382853\n",
       "...      ...               ...       ...       ...       ...\n",
       "4095     4.5            Google  70534404  84063444  92272560\n",
       "4096     3.6        Bookmyshow   2934048   3511116   3823992\n",
       "4097     3.9           Philips   1961856   2363256   2541396\n",
       "4098     3.5        CL Educate    591888    712656    767076\n",
       "4099     4.5      Innodatatics    260160    312984    337404\n",
       "\n",
       "[3854 rows x 5 columns]"
      ]
     },
     "execution_count": 38,
     "metadata": {},
     "output_type": "execute_result"
    }
   ],
   "source": [
    "salary.dropna()"
   ]
  },
  {
   "cell_type": "markdown",
   "id": "f349caa9",
   "metadata": {},
   "source": [
    "# The 'Rating' column in the provided dataset is missing values, so let's populate it with the rating column mean."
   ]
  },
  {
   "cell_type": "code",
   "execution_count": 39,
   "id": "8564a5c4",
   "metadata": {},
   "outputs": [],
   "source": [
    "salary['Rating'].fillna(value=salary['Rating'].mean(), inplace=True)"
   ]
  },
  {
   "cell_type": "code",
   "execution_count": 40,
   "id": "586406de",
   "metadata": {},
   "outputs": [
    {
     "data": {
      "text/plain": [
       "Rating     0\n",
       "Company    0\n",
       "Average    0\n",
       "Lowest     0\n",
       "Highest    0\n",
       "dtype: int64"
      ]
     },
     "execution_count": 40,
     "metadata": {},
     "output_type": "execute_result"
    }
   ],
   "source": [
    "salary.isna().sum()"
   ]
  },
  {
   "cell_type": "code",
   "execution_count": 11,
   "id": "63c37226",
   "metadata": {},
   "outputs": [
    {
     "data": {
      "text/html": [
       "<div>\n",
       "<style scoped>\n",
       "    .dataframe tbody tr th:only-of-type {\n",
       "        vertical-align: middle;\n",
       "    }\n",
       "\n",
       "    .dataframe tbody tr th {\n",
       "        vertical-align: top;\n",
       "    }\n",
       "\n",
       "    .dataframe thead th {\n",
       "        text-align: right;\n",
       "    }\n",
       "</style>\n",
       "<table border=\"1\" class=\"dataframe\">\n",
       "  <thead>\n",
       "    <tr style=\"text-align: right;\">\n",
       "      <th></th>\n",
       "      <th>Rating</th>\n",
       "      <th>Company</th>\n",
       "      <th>Average</th>\n",
       "      <th>Lowest</th>\n",
       "      <th>Highest</th>\n",
       "      <th>yr/mo/hr</th>\n",
       "    </tr>\n",
       "  </thead>\n",
       "  <tbody>\n",
       "    <tr>\n",
       "      <th>0</th>\n",
       "      <td>3.6</td>\n",
       "      <td>Tech Mahindra</td>\n",
       "      <td>937156</td>\n",
       "      <td>418054</td>\n",
       "      <td>2335432</td>\n",
       "      <td>/yr</td>\n",
       "    </tr>\n",
       "    <tr>\n",
       "      <th>1</th>\n",
       "      <td>3.7</td>\n",
       "      <td>Optum</td>\n",
       "      <td>1508702</td>\n",
       "      <td>887265</td>\n",
       "      <td>2400000</td>\n",
       "      <td>/yr</td>\n",
       "    </tr>\n",
       "    <tr>\n",
       "      <th>2</th>\n",
       "      <td>4.1</td>\n",
       "      <td>Fresher</td>\n",
       "      <td>540557</td>\n",
       "      <td>189354</td>\n",
       "      <td>1472751</td>\n",
       "      <td>/yr</td>\n",
       "    </tr>\n",
       "    <tr>\n",
       "      <th>3</th>\n",
       "      <td>3.7</td>\n",
       "      <td>HCL Technologies</td>\n",
       "      <td>887986</td>\n",
       "      <td>416339</td>\n",
       "      <td>1926785</td>\n",
       "      <td>/yr</td>\n",
       "    </tr>\n",
       "    <tr>\n",
       "      <th>4</th>\n",
       "      <td>3.9</td>\n",
       "      <td>Genpact</td>\n",
       "      <td>972181</td>\n",
       "      <td>249195</td>\n",
       "      <td>2382853</td>\n",
       "      <td>/yr</td>\n",
       "    </tr>\n",
       "  </tbody>\n",
       "</table>\n",
       "</div>"
      ],
      "text/plain": [
       "   Rating           Company  Average  Lowest  Highest yr/mo/hr\n",
       "0     3.6     Tech Mahindra   937156  418054  2335432      /yr\n",
       "1     3.7             Optum  1508702  887265  2400000      /yr\n",
       "2     4.1           Fresher   540557  189354  1472751      /yr\n",
       "3     3.7  HCL Technologies   887986  416339  1926785      /yr\n",
       "4     3.9           Genpact   972181  249195  2382853      /yr"
      ]
     },
     "execution_count": 11,
     "metadata": {},
     "output_type": "execute_result"
    }
   ],
   "source": [
    "salary.head()\n"
   ]
  },
  {
   "cell_type": "code",
   "execution_count": 12,
   "id": "caa3ff29",
   "metadata": {},
   "outputs": [
    {
     "name": "stdout",
     "output_type": "stream",
     "text": [
      "<class 'pandas.core.frame.DataFrame'>\n",
      "RangeIndex: 4100 entries, 0 to 4099\n",
      "Data columns (total 6 columns):\n",
      " #   Column    Non-Null Count  Dtype  \n",
      "---  ------    --------------  -----  \n",
      " 0   Rating    4100 non-null   float64\n",
      " 1   Company   4100 non-null   object \n",
      " 2   Average   4100 non-null   int32  \n",
      " 3   Lowest    4100 non-null   int32  \n",
      " 4   Highest   4100 non-null   int32  \n",
      " 5   yr/mo/hr  4100 non-null   object \n",
      "dtypes: float64(1), int32(3), object(2)\n",
      "memory usage: 144.3+ KB\n"
     ]
    }
   ],
   "source": [
    "salary.info()"
   ]
  },
  {
   "cell_type": "code",
   "execution_count": 13,
   "id": "5bb84cf8",
   "metadata": {},
   "outputs": [
    {
     "data": {
      "text/html": [
       "<div>\n",
       "<style scoped>\n",
       "    .dataframe tbody tr th:only-of-type {\n",
       "        vertical-align: middle;\n",
       "    }\n",
       "\n",
       "    .dataframe tbody tr th {\n",
       "        vertical-align: top;\n",
       "    }\n",
       "\n",
       "    .dataframe thead th {\n",
       "        text-align: right;\n",
       "    }\n",
       "</style>\n",
       "<table border=\"1\" class=\"dataframe\">\n",
       "  <thead>\n",
       "    <tr style=\"text-align: right;\">\n",
       "      <th></th>\n",
       "      <th>Rating</th>\n",
       "      <th>Average</th>\n",
       "      <th>Lowest</th>\n",
       "      <th>Highest</th>\n",
       "    </tr>\n",
       "  </thead>\n",
       "  <tbody>\n",
       "    <tr>\n",
       "      <th>count</th>\n",
       "      <td>4100.000000</td>\n",
       "      <td>4.100000e+03</td>\n",
       "      <td>4.100000e+03</td>\n",
       "      <td>4.100000e+03</td>\n",
       "    </tr>\n",
       "    <tr>\n",
       "      <th>mean</th>\n",
       "      <td>3.932486</td>\n",
       "      <td>7.608688e+05</td>\n",
       "      <td>7.675292e+05</td>\n",
       "      <td>1.140150e+06</td>\n",
       "    </tr>\n",
       "    <tr>\n",
       "      <th>std</th>\n",
       "      <td>0.522393</td>\n",
       "      <td>1.552357e+06</td>\n",
       "      <td>1.789429e+06</td>\n",
       "      <td>2.241165e+06</td>\n",
       "    </tr>\n",
       "    <tr>\n",
       "      <th>min</th>\n",
       "      <td>1.000000</td>\n",
       "      <td>1.400000e+01</td>\n",
       "      <td>1.000000e+00</td>\n",
       "      <td>1.900000e+01</td>\n",
       "    </tr>\n",
       "    <tr>\n",
       "      <th>25%</th>\n",
       "      <td>3.700000</td>\n",
       "      <td>8.158700e+04</td>\n",
       "      <td>8.509100e+04</td>\n",
       "      <td>1.092618e+05</td>\n",
       "    </tr>\n",
       "    <tr>\n",
       "      <th>50%</th>\n",
       "      <td>3.932486</td>\n",
       "      <td>5.573645e+05</td>\n",
       "      <td>5.380660e+05</td>\n",
       "      <td>7.592660e+05</td>\n",
       "    </tr>\n",
       "    <tr>\n",
       "      <th>75%</th>\n",
       "      <td>4.200000</td>\n",
       "      <td>1.025322e+06</td>\n",
       "      <td>1.015828e+06</td>\n",
       "      <td>1.565450e+06</td>\n",
       "    </tr>\n",
       "    <tr>\n",
       "      <th>max</th>\n",
       "      <td>5.000000</td>\n",
       "      <td>8.404587e+07</td>\n",
       "      <td>1.009569e+08</td>\n",
       "      <td>1.091578e+08</td>\n",
       "    </tr>\n",
       "  </tbody>\n",
       "</table>\n",
       "</div>"
      ],
      "text/plain": [
       "            Rating       Average        Lowest       Highest\n",
       "count  4100.000000  4.100000e+03  4.100000e+03  4.100000e+03\n",
       "mean      3.932486  7.608688e+05  7.675292e+05  1.140150e+06\n",
       "std       0.522393  1.552357e+06  1.789429e+06  2.241165e+06\n",
       "min       1.000000  1.400000e+01  1.000000e+00  1.900000e+01\n",
       "25%       3.700000  8.158700e+04  8.509100e+04  1.092618e+05\n",
       "50%       3.932486  5.573645e+05  5.380660e+05  7.592660e+05\n",
       "75%       4.200000  1.025322e+06  1.015828e+06  1.565450e+06\n",
       "max       5.000000  8.404587e+07  1.009569e+08  1.091578e+08"
      ]
     },
     "execution_count": 13,
     "metadata": {},
     "output_type": "execute_result"
    }
   ],
   "source": [
    "salary.describe()"
   ]
  },
  {
   "cell_type": "markdown",
   "id": "bd09d546",
   "metadata": {},
   "source": [
    "# Explotary Data Analysis"
   ]
  },
  {
   "cell_type": "markdown",
   "id": "c581a4cf",
   "metadata": {},
   "source": [
    "# let's explore the data with some vizualisation plots"
   ]
  },
  {
   "cell_type": "code",
   "execution_count": 15,
   "id": "99bf2010",
   "metadata": {},
   "outputs": [
    {
     "data": {
      "image/png": "[encoded data removed]",
      "text/plain": [
       "<Figure size 720x720 with 20 Axes>"
      ]
     },
     "metadata": {
      "needs_background": "light"
     },
     "output_type": "display_data"
    }
   ],
   "source": [
    "#Representing the correlation among the all the int type variables\n",
    "sns.pairplot(salary, markers='*')\n",
    "plt.show()"
   ]
  },
  {
   "cell_type": "markdown",
   "id": "73efa783",
   "metadata": {},
   "source": [
    "# Histogram Plot"
   ]
  },
  {
   "cell_type": "code",
   "execution_count": 17,
   "id": "85d53d3b",
   "metadata": {},
   "outputs": [
    {
     "data": {
      "image/png": "[encoded data removed]",
      "text/plain": [
       "<Figure size 432x288 with 1 Axes>"
      ]
     },
     "metadata": {
      "needs_background": "light"
     },
     "output_type": "display_data"
    },
    {
     "name": "stdout",
     "output_type": "stream",
     "text": [
      "\n",
      "\n"
     ]
    },
    {
     "data": {
      "image/png": "[encoded data removed]",
      "text/plain": [
       "<Figure size 432x288 with 1 Axes>"
      ]
     },
     "metadata": {
      "needs_background": "light"
     },
     "output_type": "display_data"
    },
    {
     "name": "stdout",
     "output_type": "stream",
     "text": [
      "\n",
      "\n"
     ]
    },
    {
     "data": {
      "image/png": "[encoded data removed]",
      "text/plain": [
       "<Figure size 432x288 with 1 Axes>"
      ]
     },
     "metadata": {
      "needs_background": "light"
     },
     "output_type": "display_data"
    },
    {
     "name": "stdout",
     "output_type": "stream",
     "text": [
      "\n",
      "\n"
     ]
    },
    {
     "data": {
      "image/png": "[encoded data removed]",
      "text/plain": [
       "<Figure size 432x288 with 1 Axes>"
      ]
     },
     "metadata": {
      "needs_background": "light"
     },
     "output_type": "display_data"
    },
    {
     "name": "stdout",
     "output_type": "stream",
     "text": [
      "\n",
      "\n"
     ]
    },
    {
     "data": {
      "image/png": "[encoded data removed]",
      "text/plain": [
       "<Figure size 432x288 with 1 Axes>"
      ]
     },
     "metadata": {
      "needs_background": "light"
     },
     "output_type": "display_data"
    },
    {
     "name": "stdout",
     "output_type": "stream",
     "text": [
      "\n",
      "\n"
     ]
    }
   ],
   "source": [
    "for x in salary.drop('Company', axis=1).columns:\n",
    "    sns.histplot(salary[x], bins=200)\n",
    "    plt.show()\n",
    "    print('\\n')"
   ]
  },
  {
   "cell_type": "code",
   "execution_count": 19,
   "id": "1196514e",
   "metadata": {},
   "outputs": [
    {
     "data": {
      "text/plain": [
       "3230"
      ]
     },
     "execution_count": 19,
     "metadata": {},
     "output_type": "execute_result"
    }
   ],
   "source": [
    "salary['Company'].nunique()"
   ]
  },
  {
   "cell_type": "markdown",
   "id": "5e6c26b8",
   "metadata": {},
   "source": [
    "# Top 10 companies with the highest average income for data scientist are shown in a bar plot."
   ]
  },
  {
   "cell_type": "code",
   "execution_count": 20,
   "id": "273bacec",
   "metadata": {},
   "outputs": [
    {
     "data": {
      "image/png": "[encoded data removed]",
      "text/plain": [
       "<Figure size 720x360 with 1 Axes>"
      ]
     },
     "metadata": {
      "needs_background": "light"
     },
     "output_type": "display_data"
    }
   ],
   "source": [
    "plt.figure(figsize=(10,5))\n",
    "MeanSalary = salary.groupby('Company')[['Average']].agg('mean').reset_index().sort_values('Average', ascending=False)\n",
    "sns.barplot(y='Company', x='Average', data=MeanSalary[:10])\n",
    "plt.xlabel('Yearly Salary (millions of Rupees)')\n",
    "plt.ylabel('Job Title')\n",
    "plt.title('Average Yearly Salary by Job Title')\n",
    "plt.show()\n"
   ]
  },
  {
   "cell_type": "markdown",
   "id": "06654967",
   "metadata": {},
   "source": [
    "# Let's determine the maximum number of employment for each company."
   ]
  },
  {
   "cell_type": "code",
   "execution_count": 21,
   "id": "a0ba8a0a",
   "metadata": {},
   "outputs": [
    {
     "data": {
      "text/html": [
       "<div>\n",
       "<style scoped>\n",
       "    .dataframe tbody tr th:only-of-type {\n",
       "        vertical-align: middle;\n",
       "    }\n",
       "\n",
       "    .dataframe tbody tr th {\n",
       "        vertical-align: top;\n",
       "    }\n",
       "\n",
       "    .dataframe thead th {\n",
       "        text-align: right;\n",
       "    }\n",
       "</style>\n",
       "<table border=\"1\" class=\"dataframe\">\n",
       "  <thead>\n",
       "    <tr style=\"text-align: right;\">\n",
       "      <th></th>\n",
       "      <th>index</th>\n",
       "      <th>Company</th>\n",
       "    </tr>\n",
       "  </thead>\n",
       "  <tbody>\n",
       "    <tr>\n",
       "      <th>0</th>\n",
       "      <td>Tata Consultancy Services</td>\n",
       "      <td>19</td>\n",
       "    </tr>\n",
       "    <tr>\n",
       "      <th>1</th>\n",
       "      <td>Accenture</td>\n",
       "      <td>15</td>\n",
       "    </tr>\n",
       "    <tr>\n",
       "      <th>2</th>\n",
       "      <td>IBM</td>\n",
       "      <td>14</td>\n",
       "    </tr>\n",
       "    <tr>\n",
       "      <th>3</th>\n",
       "      <td>Fresher</td>\n",
       "      <td>12</td>\n",
       "    </tr>\n",
       "    <tr>\n",
       "      <th>4</th>\n",
       "      <td>dunnhumby</td>\n",
       "      <td>11</td>\n",
       "    </tr>\n",
       "    <tr>\n",
       "      <th>...</th>\n",
       "      <td>...</td>\n",
       "      <td>...</td>\n",
       "    </tr>\n",
       "    <tr>\n",
       "      <th>3225</th>\n",
       "      <td>Ankit</td>\n",
       "      <td>1</td>\n",
       "    </tr>\n",
       "    <tr>\n",
       "      <th>3226</th>\n",
       "      <td>PlotMyData</td>\n",
       "      <td>1</td>\n",
       "    </tr>\n",
       "    <tr>\n",
       "      <th>3227</th>\n",
       "      <td>YOGESH SHARMA</td>\n",
       "      <td>1</td>\n",
       "    </tr>\n",
       "    <tr>\n",
       "      <th>3228</th>\n",
       "      <td>Raj Mahawala</td>\n",
       "      <td>1</td>\n",
       "    </tr>\n",
       "    <tr>\n",
       "      <th>3229</th>\n",
       "      <td>CL Educate</td>\n",
       "      <td>1</td>\n",
       "    </tr>\n",
       "  </tbody>\n",
       "</table>\n",
       "<p>3230 rows × 2 columns</p>\n",
       "</div>"
      ],
      "text/plain": [
       "                          index  Company\n",
       "0     Tata Consultancy Services       19\n",
       "1                     Accenture       15\n",
       "2                           IBM       14\n",
       "3                       Fresher       12\n",
       "4                     dunnhumby       11\n",
       "...                         ...      ...\n",
       "3225                      Ankit        1\n",
       "3226                 PlotMyData        1\n",
       "3227              YOGESH SHARMA        1\n",
       "3228               Raj Mahawala        1\n",
       "3229                 CL Educate        1\n",
       "\n",
       "[3230 rows x 2 columns]"
      ]
     },
     "execution_count": 21,
     "metadata": {},
     "output_type": "execute_result"
    }
   ],
   "source": [
    "Salary=salary['Company'].value_counts()\n",
    "Salary =Salary.to_frame().reset_index()\n",
    "Salary"
   ]
  },
  {
   "cell_type": "code",
   "execution_count": 22,
   "id": "fec87117",
   "metadata": {},
   "outputs": [
    {
     "data": {
      "text/html": [
       "<div>\n",
       "<style scoped>\n",
       "    .dataframe tbody tr th:only-of-type {\n",
       "        vertical-align: middle;\n",
       "    }\n",
       "\n",
       "    .dataframe tbody tr th {\n",
       "        vertical-align: top;\n",
       "    }\n",
       "\n",
       "    .dataframe thead th {\n",
       "        text-align: right;\n",
       "    }\n",
       "</style>\n",
       "<table border=\"1\" class=\"dataframe\">\n",
       "  <thead>\n",
       "    <tr style=\"text-align: right;\">\n",
       "      <th></th>\n",
       "      <th>company</th>\n",
       "      <th>Job_count</th>\n",
       "    </tr>\n",
       "  </thead>\n",
       "  <tbody>\n",
       "    <tr>\n",
       "      <th>0</th>\n",
       "      <td>Tata Consultancy Services</td>\n",
       "      <td>19</td>\n",
       "    </tr>\n",
       "    <tr>\n",
       "      <th>1</th>\n",
       "      <td>Accenture</td>\n",
       "      <td>15</td>\n",
       "    </tr>\n",
       "    <tr>\n",
       "      <th>2</th>\n",
       "      <td>IBM</td>\n",
       "      <td>14</td>\n",
       "    </tr>\n",
       "    <tr>\n",
       "      <th>3</th>\n",
       "      <td>Fresher</td>\n",
       "      <td>12</td>\n",
       "    </tr>\n",
       "    <tr>\n",
       "      <th>4</th>\n",
       "      <td>dunnhumby</td>\n",
       "      <td>11</td>\n",
       "    </tr>\n",
       "    <tr>\n",
       "      <th>5</th>\n",
       "      <td>Infosys</td>\n",
       "      <td>11</td>\n",
       "    </tr>\n",
       "    <tr>\n",
       "      <th>6</th>\n",
       "      <td>Amazon</td>\n",
       "      <td>10</td>\n",
       "    </tr>\n",
       "    <tr>\n",
       "      <th>7</th>\n",
       "      <td>ZS Associates</td>\n",
       "      <td>9</td>\n",
       "    </tr>\n",
       "    <tr>\n",
       "      <th>8</th>\n",
       "      <td>Cognizant Technology Solutions</td>\n",
       "      <td>8</td>\n",
       "    </tr>\n",
       "    <tr>\n",
       "      <th>9</th>\n",
       "      <td>Wipro</td>\n",
       "      <td>8</td>\n",
       "    </tr>\n",
       "  </tbody>\n",
       "</table>\n",
       "</div>"
      ],
      "text/plain": [
       "                          company  Job_count\n",
       "0       Tata Consultancy Services         19\n",
       "1                       Accenture         15\n",
       "2                             IBM         14\n",
       "3                         Fresher         12\n",
       "4                       dunnhumby         11\n",
       "5                         Infosys         11\n",
       "6                          Amazon         10\n",
       "7                   ZS Associates          9\n",
       "8  Cognizant Technology Solutions          8\n",
       "9                           Wipro          8"
      ]
     },
     "execution_count": 22,
     "metadata": {},
     "output_type": "execute_result"
    }
   ],
   "source": [
    "Salary.rename(columns = {'index':'company','Company':'Job_count'}, inplace = True)\n",
    "Salary.head(10)"
   ]
  },
  {
   "cell_type": "markdown",
   "id": "b01ebd76",
   "metadata": {},
   "source": [
    "# Visualizung by using barplot"
   ]
  },
  {
   "cell_type": "code",
   "execution_count": 23,
   "id": "8dafe5c9",
   "metadata": {},
   "outputs": [
    {
     "data": {
      "text/plain": [
       "Text(0.5, 1.0, 'Number of Jobs in particular company')"
      ]
     },
     "execution_count": 23,
     "metadata": {},
     "output_type": "execute_result"
    },
    {
     "data": {
      "image/png": "[encoded data removed]",
      "text/plain": [
       "<Figure size 720x360 with 1 Axes>"
      ]
     },
     "metadata": {
      "needs_background": "light"
     },
     "output_type": "display_data"
    }
   ],
   "source": [
    "plt.figure(figsize=(10,5))\n",
    "sns.barplot(x=Salary['Job_count'][:10],y=Salary['company'][:10])\n",
    "plt.xlabel('Maximum no of jobs')\n",
    "plt.ylabel('Company')\n",
    "plt.title('Number of Jobs in particular company')"
   ]
  },
  {
   "cell_type": "markdown",
   "id": "01a4a92e",
   "metadata": {},
   "source": [
    "# Visualizing the highets salaries given by companies"
   ]
  },
  {
   "cell_type": "code",
   "execution_count": 24,
   "id": "7485c155",
   "metadata": {},
   "outputs": [
    {
     "name": "stderr",
     "output_type": "stream",
     "text": [
      "<ipython-input-24-332c672532ff>:3: FutureWarning: The behavior of `series[i:j]` with an integer-dtype index is deprecated. In a future version, this will be treated as *label-based* indexing, consistent with e.g. `series[i]` lookups. To retain the old behavior, use `series.iloc[i:j]`. To get the future behavior, use `series.loc[i:j]`.\n",
      "  sns.barplot(x=Salary['Highest'][:10],y=Salary['Company'][:10])\n"
     ]
    },
    {
     "data": {
      "text/plain": [
       "Text(0.5, 1.0, 'Highest Salaries given by companies')"
      ]
     },
     "execution_count": 24,
     "metadata": {},
     "output_type": "execute_result"
    },
    {
     "data": {
      "image/png": "[encoded data removed]",
      "text/plain": [
       "<Figure size 720x360 with 1 Axes>"
      ]
     },
     "metadata": {
      "needs_background": "light"
     },
     "output_type": "display_data"
    }
   ],
   "source": [
    "Salary=salary.sort_values(by='Highest',ascending=False)\n",
    "plt.figure(figsize=(10,5))\n",
    "sns.barplot(x=Salary['Highest'][:10],y=Salary['Company'][:10])\n",
    "plt.xlabel('Highest Salary given by company in lakhs ')\n",
    "plt.ylabel('Company')\n",
    "plt.title('Highest Salaries given by companies')"
   ]
  },
  {
   "cell_type": "markdown",
   "id": "309ec1c6",
   "metadata": {},
   "source": [
    "# Insights from Analysis\n",
    "There are 4100 companies in the data overall, but only 3230 of them are unique.\n",
    "Rahul Infotech, a business, pays the highest wage, which is around Rs. 10,91,57,751 followed by google.\n",
    "Rahul Infotech pays the highest average compensation, which is over 8 crore INR.\n",
    "Tata Consultancy Services appeared in our search results the most-18 times, on average."
   ]
  },
  {
   "cell_type": "code",
   "execution_count": null,
   "id": "3f02717c",
   "metadata": {},
   "outputs": [],
   "source": []
  }
 ],
 "metadata": {
  "kernelspec": {
   "display_name": "Python 3",
   "language": "python",
   "name": "python3"
  },
  "language_info": {
   "codemirror_mode": {
    "name": "ipython",
    "version": 3
   },
   "file_extension": ".py",
   "mimetype": "text/x-python",
   "name": "python",
   "nbconvert_exporter": "python",
   "pygments_lexer": "ipython3",
   "version": "3.8.8"
  }
 },
 "nbformat": 4,
 "nbformat_minor": 5
}
