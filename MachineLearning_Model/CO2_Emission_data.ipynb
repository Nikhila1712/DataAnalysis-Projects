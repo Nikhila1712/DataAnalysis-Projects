{
 "cells": [
  {
   "cell_type": "markdown",
   "id": "e0b65d13",
   "metadata": {},
   "source": [
    "# Importing Libraries"
   ]
  },
  {
   "cell_type": "code",
   "execution_count": null,
   "id": "c64c870f",
   "metadata": {},
   "outputs": [],
   "source": [
    "import pandas as pd\n",
    "import pylab as pl\n",
    "import numpy as np\n",
    "import matplotlib.pyplot as plt\n",
    "import matplotlib.cm as cm\n",
    "from math import sqrt\n",
    "from mpl_toolkits.mplot3d import Axes3D \n",
    "%matplotlib inline\n",
    "import warnings\n",
    "warnings.filterwarnings('ignore')\n",
    "\n",
    "#ML Libraries\n",
    "from sklearn import linear_model\n",
    "from sklearn.metrics import r2_score\n",
    "from sklearn.preprocessing import StandardScaler\n",
    "from sklearn.cluster import KMeans"
   ]
  },
  {
   "cell_type": "markdown",
   "id": "c8f5d672",
   "metadata": {},
   "source": [
    "# Data Loading"
   ]
  },
  {
   "cell_type": "code",
   "execution_count": 4,
   "id": "07ffe94c",
   "metadata": {},
   "outputs": [],
   "source": [
    "df= pd.read_csv(\"CO2_emission.csv\")"
   ]
  },
  {
   "cell_type": "code",
   "execution_count": 5,
   "id": "b127837a",
   "metadata": {},
   "outputs": [
    {
     "data": {
      "text/html": [
       "<div>\n",
       "<style scoped>\n",
       "    .dataframe tbody tr th:only-of-type {\n",
       "        vertical-align: middle;\n",
       "    }\n",
       "\n",
       "    .dataframe tbody tr th {\n",
       "        vertical-align: top;\n",
       "    }\n",
       "\n",
       "    .dataframe thead th {\n",
       "        text-align: right;\n",
       "    }\n",
       "</style>\n",
       "<table border=\"1\" class=\"dataframe\">\n",
       "  <thead>\n",
       "    <tr style=\"text-align: right;\">\n",
       "      <th></th>\n",
       "      <th>Model_Year</th>\n",
       "      <th>Make</th>\n",
       "      <th>Model</th>\n",
       "      <th>Vehicle_Class</th>\n",
       "      <th>Engine_Size</th>\n",
       "      <th>Cylinders</th>\n",
       "      <th>Transmission</th>\n",
       "      <th>Fuel_Consumption_in_City(L/100 km)</th>\n",
       "      <th>Fuel_Consumption_in_City_Hwy(L/100 km)</th>\n",
       "      <th>Fuel_Consumption_comb(L/100km)</th>\n",
       "      <th>CO2_Emissions</th>\n",
       "      <th>Smog_Level</th>\n",
       "    </tr>\n",
       "  </thead>\n",
       "  <tbody>\n",
       "    <tr>\n",
       "      <th>0</th>\n",
       "      <td>2021</td>\n",
       "      <td>Acura</td>\n",
       "      <td>ILX</td>\n",
       "      <td>Compact</td>\n",
       "      <td>2.4</td>\n",
       "      <td>4</td>\n",
       "      <td>AM8</td>\n",
       "      <td>9.9</td>\n",
       "      <td>7.0</td>\n",
       "      <td>8.6</td>\n",
       "      <td>199</td>\n",
       "      <td>3</td>\n",
       "    </tr>\n",
       "    <tr>\n",
       "      <th>1</th>\n",
       "      <td>2021</td>\n",
       "      <td>Acura</td>\n",
       "      <td>NSX</td>\n",
       "      <td>Two-seater</td>\n",
       "      <td>3.5</td>\n",
       "      <td>6</td>\n",
       "      <td>AM9</td>\n",
       "      <td>11.1</td>\n",
       "      <td>10.8</td>\n",
       "      <td>11.0</td>\n",
       "      <td>256</td>\n",
       "      <td>3</td>\n",
       "    </tr>\n",
       "    <tr>\n",
       "      <th>2</th>\n",
       "      <td>2021</td>\n",
       "      <td>Acura</td>\n",
       "      <td>RDX SH-AWD</td>\n",
       "      <td>SUV: Small</td>\n",
       "      <td>2.0</td>\n",
       "      <td>4</td>\n",
       "      <td>AS10</td>\n",
       "      <td>11.0</td>\n",
       "      <td>8.6</td>\n",
       "      <td>9.9</td>\n",
       "      <td>232</td>\n",
       "      <td>6</td>\n",
       "    </tr>\n",
       "    <tr>\n",
       "      <th>3</th>\n",
       "      <td>2021</td>\n",
       "      <td>Acura</td>\n",
       "      <td>RDX SH-AWD A-SPEC</td>\n",
       "      <td>SUV: Small</td>\n",
       "      <td>2.0</td>\n",
       "      <td>4</td>\n",
       "      <td>AS10</td>\n",
       "      <td>11.3</td>\n",
       "      <td>9.1</td>\n",
       "      <td>10.3</td>\n",
       "      <td>242</td>\n",
       "      <td>6</td>\n",
       "    </tr>\n",
       "    <tr>\n",
       "      <th>4</th>\n",
       "      <td>2021</td>\n",
       "      <td>Acura</td>\n",
       "      <td>TLX SH-AWD</td>\n",
       "      <td>Compact</td>\n",
       "      <td>2.0</td>\n",
       "      <td>4</td>\n",
       "      <td>AS10</td>\n",
       "      <td>11.2</td>\n",
       "      <td>8.0</td>\n",
       "      <td>9.8</td>\n",
       "      <td>230</td>\n",
       "      <td>7</td>\n",
       "    </tr>\n",
       "    <tr>\n",
       "      <th>...</th>\n",
       "      <td>...</td>\n",
       "      <td>...</td>\n",
       "      <td>...</td>\n",
       "      <td>...</td>\n",
       "      <td>...</td>\n",
       "      <td>...</td>\n",
       "      <td>...</td>\n",
       "      <td>...</td>\n",
       "      <td>...</td>\n",
       "      <td>...</td>\n",
       "      <td>...</td>\n",
       "      <td>...</td>\n",
       "    </tr>\n",
       "    <tr>\n",
       "      <th>930</th>\n",
       "      <td>2021</td>\n",
       "      <td>Volvo</td>\n",
       "      <td>XC40 T5 AWD</td>\n",
       "      <td>SUV: Small</td>\n",
       "      <td>2.0</td>\n",
       "      <td>4</td>\n",
       "      <td>AS8</td>\n",
       "      <td>10.7</td>\n",
       "      <td>7.7</td>\n",
       "      <td>9.4</td>\n",
       "      <td>219</td>\n",
       "      <td>5</td>\n",
       "    </tr>\n",
       "    <tr>\n",
       "      <th>931</th>\n",
       "      <td>2021</td>\n",
       "      <td>Volvo</td>\n",
       "      <td>XC60 T5 AWD</td>\n",
       "      <td>SUV: Small</td>\n",
       "      <td>2.0</td>\n",
       "      <td>4</td>\n",
       "      <td>AS8</td>\n",
       "      <td>11.1</td>\n",
       "      <td>8.3</td>\n",
       "      <td>9.9</td>\n",
       "      <td>230</td>\n",
       "      <td>5</td>\n",
       "    </tr>\n",
       "    <tr>\n",
       "      <th>932</th>\n",
       "      <td>2021</td>\n",
       "      <td>Volvo</td>\n",
       "      <td>XC60 T6 AWD</td>\n",
       "      <td>SUV: Small</td>\n",
       "      <td>2.0</td>\n",
       "      <td>4</td>\n",
       "      <td>AS8</td>\n",
       "      <td>11.7</td>\n",
       "      <td>8.6</td>\n",
       "      <td>10.3</td>\n",
       "      <td>240</td>\n",
       "      <td>7</td>\n",
       "    </tr>\n",
       "    <tr>\n",
       "      <th>933</th>\n",
       "      <td>2021</td>\n",
       "      <td>Volvo</td>\n",
       "      <td>XC90 T5 AWD</td>\n",
       "      <td>SUV: Standard</td>\n",
       "      <td>2.0</td>\n",
       "      <td>4</td>\n",
       "      <td>AS8</td>\n",
       "      <td>11.5</td>\n",
       "      <td>8.4</td>\n",
       "      <td>10.1</td>\n",
       "      <td>236</td>\n",
       "      <td>5</td>\n",
       "    </tr>\n",
       "    <tr>\n",
       "      <th>934</th>\n",
       "      <td>2021</td>\n",
       "      <td>Volvo</td>\n",
       "      <td>XC90 T6 AWD</td>\n",
       "      <td>SUV: Standard</td>\n",
       "      <td>2.0</td>\n",
       "      <td>4</td>\n",
       "      <td>AS8</td>\n",
       "      <td>12.1</td>\n",
       "      <td>8.5</td>\n",
       "      <td>10.5</td>\n",
       "      <td>245</td>\n",
       "      <td>7</td>\n",
       "    </tr>\n",
       "  </tbody>\n",
       "</table>\n",
       "<p>935 rows × 12 columns</p>\n",
       "</div>"
      ],
      "text/plain": [
       "     Model_Year   Make              Model  Vehicle_Class  Engine_Size  \\\n",
       "0          2021  Acura                ILX        Compact          2.4   \n",
       "1          2021  Acura                NSX     Two-seater          3.5   \n",
       "2          2021  Acura         RDX SH-AWD     SUV: Small          2.0   \n",
       "3          2021  Acura  RDX SH-AWD A-SPEC     SUV: Small          2.0   \n",
       "4          2021  Acura         TLX SH-AWD        Compact          2.0   \n",
       "..          ...    ...                ...            ...          ...   \n",
       "930        2021  Volvo        XC40 T5 AWD     SUV: Small          2.0   \n",
       "931        2021  Volvo        XC60 T5 AWD     SUV: Small          2.0   \n",
       "932        2021  Volvo        XC60 T6 AWD     SUV: Small          2.0   \n",
       "933        2021  Volvo        XC90 T5 AWD  SUV: Standard          2.0   \n",
       "934        2021  Volvo        XC90 T6 AWD  SUV: Standard          2.0   \n",
       "\n",
       "     Cylinders Transmission  Fuel_Consumption_in_City(L/100 km)  \\\n",
       "0            4          AM8                                 9.9   \n",
       "1            6          AM9                                11.1   \n",
       "2            4         AS10                                11.0   \n",
       "3            4         AS10                                11.3   \n",
       "4            4         AS10                                11.2   \n",
       "..         ...          ...                                 ...   \n",
       "930          4          AS8                                10.7   \n",
       "931          4          AS8                                11.1   \n",
       "932          4          AS8                                11.7   \n",
       "933          4          AS8                                11.5   \n",
       "934          4          AS8                                12.1   \n",
       "\n",
       "     Fuel_Consumption_in_City_Hwy(L/100 km)  Fuel_Consumption_comb(L/100km)  \\\n",
       "0                                       7.0                             8.6   \n",
       "1                                      10.8                            11.0   \n",
       "2                                       8.6                             9.9   \n",
       "3                                       9.1                            10.3   \n",
       "4                                       8.0                             9.8   \n",
       "..                                      ...                             ...   \n",
       "930                                     7.7                             9.4   \n",
       "931                                     8.3                             9.9   \n",
       "932                                     8.6                            10.3   \n",
       "933                                     8.4                            10.1   \n",
       "934                                     8.5                            10.5   \n",
       "\n",
       "     CO2_Emissions  Smog_Level  \n",
       "0              199           3  \n",
       "1              256           3  \n",
       "2              232           6  \n",
       "3              242           6  \n",
       "4              230           7  \n",
       "..             ...         ...  \n",
       "930            219           5  \n",
       "931            230           5  \n",
       "932            240           7  \n",
       "933            236           5  \n",
       "934            245           7  \n",
       "\n",
       "[935 rows x 12 columns]"
      ]
     },
     "execution_count": 5,
     "metadata": {},
     "output_type": "execute_result"
    }
   ],
   "source": [
    "df"
   ]
  },
  {
   "cell_type": "code",
   "execution_count": 6,
   "id": "574ff9c6",
   "metadata": {},
   "outputs": [
    {
     "data": {
      "text/html": [
       "<div>\n",
       "<style scoped>\n",
       "    .dataframe tbody tr th:only-of-type {\n",
       "        vertical-align: middle;\n",
       "    }\n",
       "\n",
       "    .dataframe tbody tr th {\n",
       "        vertical-align: top;\n",
       "    }\n",
       "\n",
       "    .dataframe thead th {\n",
       "        text-align: right;\n",
       "    }\n",
       "</style>\n",
       "<table border=\"1\" class=\"dataframe\">\n",
       "  <thead>\n",
       "    <tr style=\"text-align: right;\">\n",
       "      <th></th>\n",
       "      <th>Model_Year</th>\n",
       "      <th>Make</th>\n",
       "      <th>Model</th>\n",
       "      <th>Vehicle_Class</th>\n",
       "      <th>Engine_Size</th>\n",
       "      <th>Cylinders</th>\n",
       "      <th>Transmission</th>\n",
       "      <th>Fuel_Consumption_in_City(L/100 km)</th>\n",
       "      <th>Fuel_Consumption_in_City_Hwy(L/100 km)</th>\n",
       "      <th>Fuel_Consumption_comb(L/100km)</th>\n",
       "      <th>CO2_Emissions</th>\n",
       "      <th>Smog_Level</th>\n",
       "    </tr>\n",
       "  </thead>\n",
       "  <tbody>\n",
       "    <tr>\n",
       "      <th>0</th>\n",
       "      <td>2021</td>\n",
       "      <td>Acura</td>\n",
       "      <td>ILX</td>\n",
       "      <td>Compact</td>\n",
       "      <td>2.4</td>\n",
       "      <td>4</td>\n",
       "      <td>AM8</td>\n",
       "      <td>9.9</td>\n",
       "      <td>7.0</td>\n",
       "      <td>8.6</td>\n",
       "      <td>199</td>\n",
       "      <td>3</td>\n",
       "    </tr>\n",
       "    <tr>\n",
       "      <th>1</th>\n",
       "      <td>2021</td>\n",
       "      <td>Acura</td>\n",
       "      <td>NSX</td>\n",
       "      <td>Two-seater</td>\n",
       "      <td>3.5</td>\n",
       "      <td>6</td>\n",
       "      <td>AM9</td>\n",
       "      <td>11.1</td>\n",
       "      <td>10.8</td>\n",
       "      <td>11.0</td>\n",
       "      <td>256</td>\n",
       "      <td>3</td>\n",
       "    </tr>\n",
       "    <tr>\n",
       "      <th>2</th>\n",
       "      <td>2021</td>\n",
       "      <td>Acura</td>\n",
       "      <td>RDX SH-AWD</td>\n",
       "      <td>SUV: Small</td>\n",
       "      <td>2.0</td>\n",
       "      <td>4</td>\n",
       "      <td>AS10</td>\n",
       "      <td>11.0</td>\n",
       "      <td>8.6</td>\n",
       "      <td>9.9</td>\n",
       "      <td>232</td>\n",
       "      <td>6</td>\n",
       "    </tr>\n",
       "    <tr>\n",
       "      <th>3</th>\n",
       "      <td>2021</td>\n",
       "      <td>Acura</td>\n",
       "      <td>RDX SH-AWD A-SPEC</td>\n",
       "      <td>SUV: Small</td>\n",
       "      <td>2.0</td>\n",
       "      <td>4</td>\n",
       "      <td>AS10</td>\n",
       "      <td>11.3</td>\n",
       "      <td>9.1</td>\n",
       "      <td>10.3</td>\n",
       "      <td>242</td>\n",
       "      <td>6</td>\n",
       "    </tr>\n",
       "    <tr>\n",
       "      <th>4</th>\n",
       "      <td>2021</td>\n",
       "      <td>Acura</td>\n",
       "      <td>TLX SH-AWD</td>\n",
       "      <td>Compact</td>\n",
       "      <td>2.0</td>\n",
       "      <td>4</td>\n",
       "      <td>AS10</td>\n",
       "      <td>11.2</td>\n",
       "      <td>8.0</td>\n",
       "      <td>9.8</td>\n",
       "      <td>230</td>\n",
       "      <td>7</td>\n",
       "    </tr>\n",
       "  </tbody>\n",
       "</table>\n",
       "</div>"
      ],
      "text/plain": [
       "   Model_Year   Make              Model Vehicle_Class  Engine_Size  Cylinders  \\\n",
       "0        2021  Acura                ILX       Compact          2.4          4   \n",
       "1        2021  Acura                NSX    Two-seater          3.5          6   \n",
       "2        2021  Acura         RDX SH-AWD    SUV: Small          2.0          4   \n",
       "3        2021  Acura  RDX SH-AWD A-SPEC    SUV: Small          2.0          4   \n",
       "4        2021  Acura         TLX SH-AWD       Compact          2.0          4   \n",
       "\n",
       "  Transmission  Fuel_Consumption_in_City(L/100 km)  \\\n",
       "0          AM8                                 9.9   \n",
       "1          AM9                                11.1   \n",
       "2         AS10                                11.0   \n",
       "3         AS10                                11.3   \n",
       "4         AS10                                11.2   \n",
       "\n",
       "   Fuel_Consumption_in_City_Hwy(L/100 km)  Fuel_Consumption_comb(L/100km)  \\\n",
       "0                                     7.0                             8.6   \n",
       "1                                    10.8                            11.0   \n",
       "2                                     8.6                             9.9   \n",
       "3                                     9.1                            10.3   \n",
       "4                                     8.0                             9.8   \n",
       "\n",
       "   CO2_Emissions  Smog_Level  \n",
       "0            199           3  \n",
       "1            256           3  \n",
       "2            232           6  \n",
       "3            242           6  \n",
       "4            230           7  "
      ]
     },
     "execution_count": 6,
     "metadata": {},
     "output_type": "execute_result"
    }
   ],
   "source": [
    "df.head()"
   ]
  },
  {
   "cell_type": "code",
   "execution_count": 7,
   "id": "07aa6f26",
   "metadata": {},
   "outputs": [
    {
     "data": {
      "text/html": [
       "<div>\n",
       "<style scoped>\n",
       "    .dataframe tbody tr th:only-of-type {\n",
       "        vertical-align: middle;\n",
       "    }\n",
       "\n",
       "    .dataframe tbody tr th {\n",
       "        vertical-align: top;\n",
       "    }\n",
       "\n",
       "    .dataframe thead th {\n",
       "        text-align: right;\n",
       "    }\n",
       "</style>\n",
       "<table border=\"1\" class=\"dataframe\">\n",
       "  <thead>\n",
       "    <tr style=\"text-align: right;\">\n",
       "      <th></th>\n",
       "      <th>Model_Year</th>\n",
       "      <th>Engine_Size</th>\n",
       "      <th>Cylinders</th>\n",
       "      <th>Fuel_Consumption_in_City(L/100 km)</th>\n",
       "      <th>Fuel_Consumption_in_City_Hwy(L/100 km)</th>\n",
       "      <th>Fuel_Consumption_comb(L/100km)</th>\n",
       "      <th>CO2_Emissions</th>\n",
       "      <th>Smog_Level</th>\n",
       "    </tr>\n",
       "  </thead>\n",
       "  <tbody>\n",
       "    <tr>\n",
       "      <th>count</th>\n",
       "      <td>935.0</td>\n",
       "      <td>935.000000</td>\n",
       "      <td>935.000000</td>\n",
       "      <td>935.000000</td>\n",
       "      <td>935.000000</td>\n",
       "      <td>935.000000</td>\n",
       "      <td>935.000000</td>\n",
       "      <td>935.000000</td>\n",
       "    </tr>\n",
       "    <tr>\n",
       "      <th>mean</th>\n",
       "      <td>2021.0</td>\n",
       "      <td>3.214866</td>\n",
       "      <td>5.716578</td>\n",
       "      <td>12.498610</td>\n",
       "      <td>9.306203</td>\n",
       "      <td>11.060214</td>\n",
       "      <td>258.529412</td>\n",
       "      <td>4.726203</td>\n",
       "    </tr>\n",
       "    <tr>\n",
       "      <th>std</th>\n",
       "      <td>0.0</td>\n",
       "      <td>1.388513</td>\n",
       "      <td>1.977359</td>\n",
       "      <td>3.487271</td>\n",
       "      <td>2.215819</td>\n",
       "      <td>2.867028</td>\n",
       "      <td>64.442768</td>\n",
       "      <td>1.712127</td>\n",
       "    </tr>\n",
       "    <tr>\n",
       "      <th>min</th>\n",
       "      <td>2021.0</td>\n",
       "      <td>1.000000</td>\n",
       "      <td>3.000000</td>\n",
       "      <td>4.000000</td>\n",
       "      <td>3.900000</td>\n",
       "      <td>4.000000</td>\n",
       "      <td>94.000000</td>\n",
       "      <td>1.000000</td>\n",
       "    </tr>\n",
       "    <tr>\n",
       "      <th>25%</th>\n",
       "      <td>2021.0</td>\n",
       "      <td>2.000000</td>\n",
       "      <td>4.000000</td>\n",
       "      <td>10.100000</td>\n",
       "      <td>7.700000</td>\n",
       "      <td>9.100000</td>\n",
       "      <td>213.000000</td>\n",
       "      <td>3.000000</td>\n",
       "    </tr>\n",
       "    <tr>\n",
       "      <th>50%</th>\n",
       "      <td>2021.0</td>\n",
       "      <td>3.000000</td>\n",
       "      <td>6.000000</td>\n",
       "      <td>12.000000</td>\n",
       "      <td>9.000000</td>\n",
       "      <td>10.700000</td>\n",
       "      <td>255.000000</td>\n",
       "      <td>5.000000</td>\n",
       "    </tr>\n",
       "    <tr>\n",
       "      <th>75%</th>\n",
       "      <td>2021.0</td>\n",
       "      <td>4.000000</td>\n",
       "      <td>8.000000</td>\n",
       "      <td>14.800000</td>\n",
       "      <td>10.800000</td>\n",
       "      <td>13.100000</td>\n",
       "      <td>303.500000</td>\n",
       "      <td>6.000000</td>\n",
       "    </tr>\n",
       "    <tr>\n",
       "      <th>max</th>\n",
       "      <td>2021.0</td>\n",
       "      <td>8.000000</td>\n",
       "      <td>16.000000</td>\n",
       "      <td>30.300000</td>\n",
       "      <td>20.900000</td>\n",
       "      <td>26.100000</td>\n",
       "      <td>608.000000</td>\n",
       "      <td>7.000000</td>\n",
       "    </tr>\n",
       "  </tbody>\n",
       "</table>\n",
       "</div>"
      ],
      "text/plain": [
       "       Model_Year  Engine_Size   Cylinders  \\\n",
       "count       935.0   935.000000  935.000000   \n",
       "mean       2021.0     3.214866    5.716578   \n",
       "std           0.0     1.388513    1.977359   \n",
       "min        2021.0     1.000000    3.000000   \n",
       "25%        2021.0     2.000000    4.000000   \n",
       "50%        2021.0     3.000000    6.000000   \n",
       "75%        2021.0     4.000000    8.000000   \n",
       "max        2021.0     8.000000   16.000000   \n",
       "\n",
       "       Fuel_Consumption_in_City(L/100 km)  \\\n",
       "count                          935.000000   \n",
       "mean                            12.498610   \n",
       "std                              3.487271   \n",
       "min                              4.000000   \n",
       "25%                             10.100000   \n",
       "50%                             12.000000   \n",
       "75%                             14.800000   \n",
       "max                             30.300000   \n",
       "\n",
       "       Fuel_Consumption_in_City_Hwy(L/100 km)  Fuel_Consumption_comb(L/100km)  \\\n",
       "count                              935.000000                      935.000000   \n",
       "mean                                 9.306203                       11.060214   \n",
       "std                                  2.215819                        2.867028   \n",
       "min                                  3.900000                        4.000000   \n",
       "25%                                  7.700000                        9.100000   \n",
       "50%                                  9.000000                       10.700000   \n",
       "75%                                 10.800000                       13.100000   \n",
       "max                                 20.900000                       26.100000   \n",
       "\n",
       "       CO2_Emissions  Smog_Level  \n",
       "count     935.000000  935.000000  \n",
       "mean      258.529412    4.726203  \n",
       "std        64.442768    1.712127  \n",
       "min        94.000000    1.000000  \n",
       "25%       213.000000    3.000000  \n",
       "50%       255.000000    5.000000  \n",
       "75%       303.500000    6.000000  \n",
       "max       608.000000    7.000000  "
      ]
     },
     "execution_count": 7,
     "metadata": {},
     "output_type": "execute_result"
    }
   ],
   "source": [
    "df.describe()"
   ]
  },
  {
   "cell_type": "markdown",
   "id": "0b397f03",
   "metadata": {},
   "source": [
    "# Exploring features in detail"
   ]
  },
  {
   "cell_type": "code",
   "execution_count": 8,
   "id": "eae77d89",
   "metadata": {},
   "outputs": [
    {
     "data": {
      "text/html": [
       "<div>\n",
       "<style scoped>\n",
       "    .dataframe tbody tr th:only-of-type {\n",
       "        vertical-align: middle;\n",
       "    }\n",
       "\n",
       "    .dataframe tbody tr th {\n",
       "        vertical-align: top;\n",
       "    }\n",
       "\n",
       "    .dataframe thead th {\n",
       "        text-align: right;\n",
       "    }\n",
       "</style>\n",
       "<table border=\"1\" class=\"dataframe\">\n",
       "  <thead>\n",
       "    <tr style=\"text-align: right;\">\n",
       "      <th></th>\n",
       "      <th>Engine_Size</th>\n",
       "      <th>Cylinders</th>\n",
       "      <th>Fuel_Consumption_comb(L/100km)</th>\n",
       "      <th>CO2_Emissions</th>\n",
       "      <th>Smog_Level</th>\n",
       "    </tr>\n",
       "  </thead>\n",
       "  <tbody>\n",
       "    <tr>\n",
       "      <th>0</th>\n",
       "      <td>2.4</td>\n",
       "      <td>4</td>\n",
       "      <td>8.6</td>\n",
       "      <td>199</td>\n",
       "      <td>3</td>\n",
       "    </tr>\n",
       "    <tr>\n",
       "      <th>1</th>\n",
       "      <td>3.5</td>\n",
       "      <td>6</td>\n",
       "      <td>11.0</td>\n",
       "      <td>256</td>\n",
       "      <td>3</td>\n",
       "    </tr>\n",
       "    <tr>\n",
       "      <th>2</th>\n",
       "      <td>2.0</td>\n",
       "      <td>4</td>\n",
       "      <td>9.9</td>\n",
       "      <td>232</td>\n",
       "      <td>6</td>\n",
       "    </tr>\n",
       "    <tr>\n",
       "      <th>3</th>\n",
       "      <td>2.0</td>\n",
       "      <td>4</td>\n",
       "      <td>10.3</td>\n",
       "      <td>242</td>\n",
       "      <td>6</td>\n",
       "    </tr>\n",
       "    <tr>\n",
       "      <th>4</th>\n",
       "      <td>2.0</td>\n",
       "      <td>4</td>\n",
       "      <td>9.8</td>\n",
       "      <td>230</td>\n",
       "      <td>7</td>\n",
       "    </tr>\n",
       "  </tbody>\n",
       "</table>\n",
       "</div>"
      ],
      "text/plain": [
       "   Engine_Size  Cylinders  Fuel_Consumption_comb(L/100km)  CO2_Emissions  \\\n",
       "0          2.4          4                             8.6            199   \n",
       "1          3.5          6                            11.0            256   \n",
       "2          2.0          4                             9.9            232   \n",
       "3          2.0          4                            10.3            242   \n",
       "4          2.0          4                             9.8            230   \n",
       "\n",
       "   Smog_Level  \n",
       "0           3  \n",
       "1           3  \n",
       "2           6  \n",
       "3           6  \n",
       "4           7  "
      ]
     },
     "execution_count": 8,
     "metadata": {},
     "output_type": "execute_result"
    }
   ],
   "source": [
    "new_df=df[['Engine_Size','Cylinders','Fuel_Consumption_comb(L/100km)','CO2_Emissions','Smog_Level']]\n",
    "new_df.head()"
   ]
  },
  {
   "cell_type": "markdown",
   "id": "aa461d5d",
   "metadata": {},
   "source": [
    "# Visualizing each of the features"
   ]
  },
  {
   "cell_type": "code",
   "execution_count": 21,
   "id": "5b8ab8f3",
   "metadata": {
    "scrolled": true
   },
   "outputs": [
    {
     "data": {
      "image/png": "[encoded data removed]",
      "text/plain": [
       "<Figure size 432x288 with 6 Axes>"
      ]
     },
     "metadata": {
      "needs_background": "light"
     },
     "output_type": "display_data"
    }
   ],
   "source": [
    "plot=new_df[['Engine_Size','Cylinders','Fuel_Consumption_comb(L/100km)','CO2_Emissions','Smog_Level']]\n",
    "plot.hist()\n",
    "plt.show()\n"
   ]
  },
  {
   "cell_type": "markdown",
   "id": "0a1107f8",
   "metadata": {},
   "source": [
    "# Scatter Plot for Fuel_Consumption_comb(L/100km) and CO2_Emissions"
   ]
  },
  {
   "cell_type": "code",
   "execution_count": 20,
   "id": "a420298a",
   "metadata": {},
   "outputs": [
    {
     "data": {
      "image/png": "[encoded data removed]",
      "text/plain": [
       "<Figure size 432x288 with 1 Axes>"
      ]
     },
     "metadata": {
      "needs_background": "light"
     },
     "output_type": "display_data"
    }
   ],
   "source": [
    "plt.scatter(new_df.Cylinders, new_df.CO2_Emissions, color= \"red\")\n",
    "plt.xlabel(\"Fuel_Consumption_comb(L/100km)\")\n",
    "plt.ylabel(\"CO2_Emissions\")\n",
    "plt.show()"
   ]
  },
  {
   "cell_type": "markdown",
   "id": "95a911e8",
   "metadata": {},
   "source": [
    "# Scatter Plot for Engine size and Emissions"
   ]
  },
  {
   "cell_type": "code",
   "execution_count": 78,
   "id": "89ec8b1e",
   "metadata": {},
   "outputs": [
    {
     "data": {
      "image/png": "[encoded data removed]",
      "text/plain": [
       "<Figure size 432x288 with 1 Axes>"
      ]
     },
     "metadata": {
      "needs_background": "light"
     },
     "output_type": "display_data"
    }
   ],
   "source": [
    "plt.scatter(new_df.Engine_Size, new_df.CO2_Emissions,  color='red')\n",
    "plt.xlabel(\"Engine size\")\n",
    "plt.ylabel(\"Emissions\")\n",
    "plt.show()\n"
   ]
  },
  {
   "cell_type": "markdown",
   "id": "50272ec4",
   "metadata": {},
   "source": [
    "# Splitting our dataset into train and test sets.(95% , 5%)"
   ]
  },
  {
   "cell_type": "code",
   "execution_count": 30,
   "id": "d573a5a1",
   "metadata": {},
   "outputs": [],
   "source": [
    "split=np.random.rand(len(df)) < 0.95\n",
    "train = new_df[split]\n",
    "test = new_df[~split]"
   ]
  },
  {
   "cell_type": "markdown",
   "id": "a819ad54",
   "metadata": {},
   "source": [
    "# Simple Regression Model"
   ]
  },
  {
   "cell_type": "code",
   "execution_count": 59,
   "id": "b9dac8d9",
   "metadata": {},
   "outputs": [
    {
     "data": {
      "text/plain": [
       "LinearRegression()"
      ]
     },
     "execution_count": 59,
     "metadata": {},
     "output_type": "execute_result"
    }
   ],
   "source": [
    "#Modeling\n",
    "regre = linear_model.LinearRegression()\n",
    "train_x = np.asanyarray(train[['Engine_Size']])\n",
    "train_y = np.asanyarray(train[['CO2_Emissions']])\n",
    "regre.fit (train_x, train_y)"
   ]
  },
  {
   "cell_type": "code",
   "execution_count": 54,
   "id": "40fcb6bd",
   "metadata": {},
   "outputs": [
    {
     "data": {
      "text/plain": [
       "Text(0, 0.5, 'Emissions')"
      ]
     },
     "execution_count": 54,
     "metadata": {},
     "output_type": "execute_result"
    },
    {
     "data": {
      "image/png": "[encoded data removed]",
      "text/plain": [
       "<Figure size 432x288 with 1 Axes>"
      ]
     },
     "metadata": {
      "needs_background": "light"
     },
     "output_type": "display_data"
    }
   ],
   "source": [
    "#Plotting the fit line over the data\n",
    "plt.scatter(train.Engine_Size, train.CO2_Emissions, color = 'green')\n",
    "plt.plot(train_x, regr.coef_[0][0]*train_x + regr.intercept_[0], '-r')\n",
    "plt.xlabel('Engine Size')\n",
    "plt.ylabel('Emissions')\n"
   ]
  },
  {
   "cell_type": "code",
   "execution_count": 58,
   "id": "27a031c2",
   "metadata": {},
   "outputs": [
    {
     "name": "stdout",
     "output_type": "stream",
     "text": [
      "Mean absolute error: 23.37\n",
      "Residual sum of square : 947.97\n",
      "R2-score: 0.70\n",
      "Variance: 0.68\n"
     ]
    }
   ],
   "source": [
    "#Evaluation the data\n",
    "test_x = np.asanyarray(test[['Engine_Size']])\n",
    "test_y = np.asanyarray(test[['CO2_Emissions']])\n",
    "test_y_ = regr.predict(test_x)\n",
    "\n",
    "print(\"Mean absolute error: %.2f\" % np.mean(np.absolute(test_y_ - test_y)))\n",
    "print(\"Residual sum of square : %.2f\" % np.mean((test_y_ - test_y)**2))\n",
    "print(\"R2-score: %.2f\" % r2_score(test_y, test_y_))\n",
    "print(\"Variance: %.2f\" % regr.score(train_x, train_y))"
   ]
  },
  {
   "cell_type": "markdown",
   "id": "33b232c3",
   "metadata": {},
   "source": [
    "# Multiple Regression Model"
   ]
  },
  {
   "cell_type": "code",
   "execution_count": 60,
   "id": "1394dcdb",
   "metadata": {},
   "outputs": [
    {
     "data": {
      "text/plain": [
       "LinearRegression()"
      ]
     },
     "execution_count": 60,
     "metadata": {},
     "output_type": "execute_result"
    }
   ],
   "source": [
    "#Modeling\n",
    "regre1 = linear_model.LinearRegression()\n",
    "x = np.asanyarray(train[['Engine_Size','Cylinders','Fuel_Consumption_comb(L/100km)']])\n",
    "y = np.asanyarray(train[['CO2_Emissions']])\n",
    "regre1.fit (x, y)"
   ]
  },
  {
   "cell_type": "code",
   "execution_count": 62,
   "id": "77f37f8e",
   "metadata": {
    "scrolled": true
   },
   "outputs": [
    {
     "name": "stdout",
     "output_type": "stream",
     "text": [
      "Residual sum of squares: 47.00\n",
      "Variance score: 0.99\n"
     ]
    }
   ],
   "source": [
    "#Predictions\n",
    "y_hat = regre1.predict(test[['Engine_Size','Cylinders','Fuel_Consumption_comb(L/100km)']])\n",
    "x=np.asanyarray(test[['Engine_Size','Cylinders','Fuel_Consumption_comb(L/100km)']])\n",
    "y = np.asanyarray(test[['CO2_Emissions']])\n",
    "print(\"Residual sum of squares: %.2f\"\n",
    "      % np.mean((y_hat - y) ** 2))\n",
    "print('Variance score: %.2f' % regre1.score(x, y))"
   ]
  },
  {
   "cell_type": "markdown",
   "id": "4ecc2703",
   "metadata": {},
   "source": [
    "Variance score 1 is perfect prediction and i got 0.99 "
   ]
  },
  {
   "cell_type": "markdown",
   "id": "f9dcc5b2",
   "metadata": {},
   "source": [
    "# K-Means Clustering"
   ]
  },
  {
   "cell_type": "code",
   "execution_count": 66,
   "id": "26689df0",
   "metadata": {},
   "outputs": [
    {
     "data": {
      "text/plain": [
       "array([[-0.93985043, -0.89625483, -1.16936498],\n",
       "       [-0.08005035,  0.20976177,  0.16705214],\n",
       "       [-0.08005035,  0.20976177,  0.37586731],\n",
       "       [-0.50995039, -0.34324653, -0.45939338],\n",
       "       [ 0.77974973,  1.31577837,  0.87702373],\n",
       "       [ 1.12366976,  1.31577837,  1.12760194],\n",
       "       [-0.93985043, -0.89625483, -0.58468249],\n",
       "       [-0.93985043, -0.89625483, -0.66820856],\n",
       "       [-0.93985043, -0.89625483, -0.8352607 ],\n",
       "       [ 1.89748983,  1.31577837,  1.54523229],\n",
       "       [ 1.89748983,  1.31577837,  1.9210996 ],\n",
       "       [ 2.6713099 ,  1.31577837,  1.12760194],\n",
       "       [ 0.43582969,  0.20976177, -0.33410428],\n",
       "       [-0.68191041, -0.89625483,  1.04407587],\n",
       "       [-0.33799038,  0.20976177,  1.16936498],\n",
       "       [-0.33799038,  0.20976177, -0.1252891 ],\n",
       "       [ 0.34984969,  0.20976177,  0.25057821],\n",
       "       [-0.68191041, -0.89625483, -0.04176303],\n",
       "       [ 1.6395498 ,  1.31577837,  0.91878677],\n",
       "       [-0.50995039, -0.89625483, -0.20881517],\n",
       "       [-0.93985043, -0.89625483, -0.79349766],\n",
       "       [-0.93985043, -0.89625483, -0.79349766],\n",
       "       [ 1.89748983,  1.31577837,  1.67052139],\n",
       "       [-0.08005035,  0.20976177, -0.41763035],\n",
       "       [-0.50995039, -0.89625483, -0.8352607 ],\n",
       "       [-0.08005035,  0.20976177,  0.08352607],\n",
       "       [-0.93985043, -0.89625483, -0.54291945],\n",
       "       [ 0.43582969,  0.20976177,  0.29234124],\n",
       "       [-0.50995039, -0.89625483, -0.50115642],\n",
       "       [ 0.60778971,  0.20976177,  0.08352607],\n",
       "       [-0.93985043, -0.89625483, -1.25289105],\n",
       "       [-0.50995039, -0.89625483, -1.16936498],\n",
       "       [-0.50995039, -0.89625483, -0.75173463],\n",
       "       [-0.93985043, -0.89625483, -1.46170622],\n",
       "       [-0.93985043, -0.89625483, -1.41994318],\n",
       "       [-0.08005035,  0.20976177, -0.1252891 ],\n",
       "       [-0.08005035,  0.20976177,  0.25057821],\n",
       "       [ 0.77974973,  1.31577837,  1.41994318],\n",
       "       [ 0.77974973,  1.31577837,  1.29465408],\n",
       "       [-0.93985043, -0.89625483, -0.66820856],\n",
       "       [-0.93985043, -0.89625483, -0.87702373],\n",
       "       [-0.93985043, -0.89625483, -0.79349766],\n",
       "       [ 0.77974973,  1.31577837,  1.54523229],\n",
       "       [ 0.77974973,  1.31577837,  0.45939338],\n",
       "       [-1.36975047, -1.44926314, -1.08583891],\n",
       "       [-0.93985043, -0.89625483, -0.87702373],\n",
       "       [-0.93985043, -0.89625483, -1.58699532],\n",
       "       [ 0.77974973,  0.20976177,  0.45939338],\n",
       "       [ 0.5218097 ,  0.20976177,  1.08583891],\n",
       "       [ 0.5218097 ,  0.20976177,  1.16936498],\n",
       "       [-0.16603036,  0.20976177,  0.25057821],\n",
       "       [ 0.77974973,  1.31577837,  1.00231284],\n",
       "       [ 0.77974973,  1.31577837,  1.00231284],\n",
       "       [ 0.43582969,  0.20976177, -0.29234124],\n",
       "       [ 3.01522993,  3.52781158,  2.25520388],\n",
       "       [-0.50995039, -0.89625483, -1.21112801],\n",
       "       [-0.50995039, -0.89625483, -1.29465408],\n",
       "       [-1.45573048, -0.89625483, -1.67052139]])"
      ]
     },
     "execution_count": 66,
     "metadata": {},
     "output_type": "execute_result"
    }
   ],
   "source": [
    "#Normalizing over the standard deviation\n",
    "X = new_df.values[:,1:]\n",
    "X = np.nan_to_num(x)\n",
    "Clus_dataSet = StandardScaler().fit_transform(X)\n",
    "Clus_dataSet"
   ]
  },
  {
   "cell_type": "code",
   "execution_count": 73,
   "id": "d47ac5ea",
   "metadata": {},
   "outputs": [],
   "source": [
    "#Modeling\n",
    "clusterNum = 3\n",
    "k_means = KMeans(init = \"k-means++\", n_clusters = clusterNum, n_init = 12)\n",
    "k_means.fit(X)\n",
    "labels = k_means.labels_"
   ]
  },
  {
   "cell_type": "code",
   "execution_count": 74,
   "id": "988cd716",
   "metadata": {},
   "outputs": [
    {
     "data": {
      "image/png": "[encoded data removed]",
      "text/plain": [
       "<Figure size 432x288 with 1 Axes>"
      ]
     },
     "metadata": {
      "needs_background": "light"
     },
     "output_type": "display_data"
    }
   ],
   "source": [
    "#let's look at the distribution of CO2Emission based on their Engine_Size and Fuel_Consumption_comb(L/100km):\n",
    "area = np.pi * ( X[:, 1])**2  \n",
    "plt.scatter(X[:, 0], X[:, 2], s=area, c=labels.astype(np.float), alpha=0.5)\n",
    "plt.xlabel('Engine_Size', fontsize=18)\n",
    "plt.ylabel('Fuel_Consumption_comb(L/100km)', fontsize=16)\n",
    "\n",
    "plt.show()"
   ]
  },
  {
   "cell_type": "code",
   "execution_count": 76,
   "id": "5fdc2f6a",
   "metadata": {},
   "outputs": [
    {
     "data": {
      "text/plain": [
       "<mpl_toolkits.mplot3d.art3d.Path3DCollection at 0x1fb33f1aeb0>"
      ]
     },
     "execution_count": 76,
     "metadata": {},
     "output_type": "execute_result"
    },
    {
     "data": {
      "image/png": "[encoded data removed]",
      "text/plain": [
       "<Figure size 576x432 with 1 Axes>"
      ]
     },
     "metadata": {
      "needs_background": "light"
     },
     "output_type": "display_data"
    }
   ],
   "source": [
    "# Exploring in 3 Dimensions\n",
    "fig = plt.figure(1, figsize=(8, 6))\n",
    "plt.clf()\n",
    "ax = Axes3D(fig, rect=[0, 0, .95, 1], elev=48, azim=134)\n",
    "\n",
    "plt.cla()\n",
    "ax.set_xlabel('CO2_Emissions')\n",
    "ax.set_ylabel('Engine_Size')\n",
    "ax.set_zlabel('Fuel_Consumption_comb(L/100km)')\n",
    "\n",
    "ax.scatter(X[:, 1], X[:, 0], X[:, 2], c= labels.astype(np.float))"
   ]
  },
  {
   "cell_type": "code",
   "execution_count": null,
   "id": "d95a7580",
   "metadata": {},
   "outputs": [],
   "source": []
  }
 ],
 "metadata": {
  "kernelspec": {
   "display_name": "Python 3",
   "language": "python",
   "name": "python3"
  },
  "language_info": {
   "codemirror_mode": {
    "name": "ipython",
    "version": 3
   },
   "file_extension": ".py",
   "mimetype": "text/x-python",
   "name": "python",
   "nbconvert_exporter": "python",
   "pygments_lexer": "ipython3",
   "version": "3.8.8"
  }
 },
 "nbformat": 4,
 "nbformat_minor": 5
}
