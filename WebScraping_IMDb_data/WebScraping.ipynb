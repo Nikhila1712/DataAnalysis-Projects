{
 "cells": [
  {
   "cell_type": "code",
   "execution_count": 1,
   "id": "bcbca5f7",
   "metadata": {},
   "outputs": [
    {
     "name": "stdout",
     "output_type": "stream",
     "text": [
      "Note: you may need to restart the kernel to use updated packages.\n"
     ]
    },
    {
     "name": "stderr",
     "output_type": "stream",
     "text": [
      "ERROR: You must give at least one requirement to install (see \"pip help install\")\n"
     ]
    }
   ],
   "source": [
    "pip install --upgrade --quiet"
   ]
  },
  {
   "cell_type": "code",
   "execution_count": 2,
   "id": "99a4f92d",
   "metadata": {},
   "outputs": [],
   "source": [
    "import requests"
   ]
  },
  {
   "cell_type": "code",
   "execution_count": 3,
   "id": "b0dd6b02",
   "metadata": {},
   "outputs": [],
   "source": [
    "page_url = 'https://www.imdb.com/search/title/?count=100&groups=top_1000&sort=user_rating'"
   ]
  },
  {
   "cell_type": "code",
   "execution_count": 4,
   "id": "2557c1d8",
   "metadata": {},
   "outputs": [],
   "source": [
    "response = requests.get(page_url)"
   ]
  },
  {
   "cell_type": "code",
   "execution_count": 5,
   "id": "cba5f090",
   "metadata": {},
   "outputs": [
    {
     "data": {
      "text/plain": [
       "200"
      ]
     },
     "execution_count": 5,
     "metadata": {},
     "output_type": "execute_result"
    }
   ],
   "source": [
    "response.status_code"
   ]
  },
  {
   "cell_type": "code",
   "execution_count": 6,
   "id": "d738b925",
   "metadata": {},
   "outputs": [],
   "source": [
    "page_content = response.text"
   ]
  },
  {
   "cell_type": "code",
   "execution_count": 7,
   "id": "97e859a4",
   "metadata": {},
   "outputs": [
    {
     "data": {
      "text/plain": [
       "688154"
      ]
     },
     "execution_count": 7,
     "metadata": {},
     "output_type": "execute_result"
    }
   ],
   "source": [
    "len(page_content)"
   ]
  },
  {
   "cell_type": "code",
   "execution_count": 8,
   "id": "3b95942a",
   "metadata": {},
   "outputs": [
    {
     "data": {
      "text/plain": [
       "'\\n\\n<!DOCTYPE html>\\n<html\\n    xmlns:og=\"http://ogp.me/ns#\"\\n    xmlns:fb=\"http://www.facebook.com/2008/fbml\">\\n    <head>\\n         \\n\\n        <meta charset=\"utf-8\">\\n\\n\\n\\n\\n        <script type=\"text/javascript\">var IMDbTimer={starttime: new Date().getTime(),pt:\\'java\\'};</script>\\n\\n<script>\\n    if (typeof uet == \\'function\\') {\\n      uet(\"bb\", \"LoadTitle\", {wb: 1});\\n    }\\n</script>\\n  <script>(function(t){ (t.events = t.events || {})[\"csm_head_pre_title\"] = new Date().getTime(); })(IMDbTimer);</script>\\n        <title>IMDb &quot;Top 1000&quot;\\n(Sorted by IMDb Rating Descending) - IMDb</title>\\n  <script>(function(t){ (t.events = t.events || {})[\"csm_head_post_title\"] = new Date().getTime(); })(IMDbTimer);</script>\\n<script>\\n    if (typeof uet == \\'function\\') {\\n      uet(\"be\", \"LoadTitle\", {wb: 1});\\n    }\\n</script>\\n<script>\\n    if (typeof uex == \\'function\\') {\\n      uex(\"ld\", \"LoadTitle\", {wb: 1});\\n    }\\n</script>\\n\\n        <link rel=\"canonical\" href=\"https://www.imdb.com/search/title/?groups=top_1000\" />\\n'"
      ]
     },
     "execution_count": 8,
     "metadata": {},
     "output_type": "execute_result"
    }
   ],
   "source": [
    "page_content[:1000]"
   ]
  },
  {
   "cell_type": "code",
   "execution_count": 9,
   "id": "f652f019",
   "metadata": {},
   "outputs": [
    {
     "name": "stdout",
     "output_type": "stream",
     "text": [
      "Note: you may need to restart the kernel to use updated packages.\n"
     ]
    }
   ],
   "source": [
    "pip install beautifulsoup4 --upgrade --quiet"
   ]
  },
  {
   "cell_type": "code",
   "execution_count": 10,
   "id": "0322eec8",
   "metadata": {},
   "outputs": [],
   "source": [
    "from bs4 import BeautifulSoup"
   ]
  },
  {
   "cell_type": "code",
   "execution_count": 11,
   "id": "2ae3f61e",
   "metadata": {},
   "outputs": [],
   "source": [
    "doc = BeautifulSoup(response.text, 'html.parser')"
   ]
  },
  {
   "cell_type": "code",
   "execution_count": 12,
   "id": "1c2ea24c",
   "metadata": {},
   "outputs": [
    {
     "data": {
      "text/plain": [
       "bs4.BeautifulSoup"
      ]
     },
     "execution_count": 12,
     "metadata": {},
     "output_type": "execute_result"
    }
   ],
   "source": [
    "type(doc)"
   ]
  },
  {
   "cell_type": "code",
   "execution_count": 13,
   "id": "52ac691b",
   "metadata": {},
   "outputs": [
    {
     "data": {
      "text/plain": [
       "<title>IMDb \"Top 1000\"\n",
       "(Sorted by IMDb Rating Descending) - IMDb</title>"
      ]
     },
     "execution_count": 13,
     "metadata": {},
     "output_type": "execute_result"
    }
   ],
   "source": [
    "doc.find('title')"
   ]
  },
  {
   "cell_type": "code",
   "execution_count": 14,
   "id": "2b1e43d3",
   "metadata": {},
   "outputs": [],
   "source": [
    "import requests\n",
    "from bs4 import BeautifulSoup\n",
    "\n",
    "def get_page(url):\n",
    "   \n",
    "    response = requests.get(page_url)\n",
    "    \n",
    "    if response.status_code != 200:\n",
    "        raise Exception('Unable to download page {}'.format(url))\n",
    "        \n",
    "    page_content = response.text    \n",
    "    \n",
    "    doc = BeautifulSoup(response.text, 'html.parser')\n",
    "    return doc"
   ]
  },
  {
   "cell_type": "code",
   "execution_count": null,
   "id": "784f2394",
   "metadata": {},
   "outputs": [],
   "source": [
    "doc = get_page(page_url)"
   ]
  },
  {
   "cell_type": "code",
   "execution_count": null,
   "id": "6d4bfb18",
   "metadata": {},
   "outputs": [],
   "source": [
    "def get_movie_titles(doc):\n",
    "    \n",
    "    selection_class=\"lister-item-header\"\n",
    "    movie_title_tags=doc.find_all('h3',{'class':selection_class})\n",
    "    movie_titles=[]\n",
    "\n",
    "    for tag in movie_title_tags:\n",
    "        title = tag.find('a').text\n",
    "        movie_titles.append(title)\n",
    "        \n",
    "        \n",
    "    return movie_titles"
   ]
  },
  {
   "cell_type": "code",
   "execution_count": null,
   "id": "e43820b1",
   "metadata": {},
   "outputs": [],
   "source": [
    "titles = get_movie_titles(doc)"
   ]
  },
  {
   "cell_type": "code",
   "execution_count": null,
   "id": "06071486",
   "metadata": {},
   "outputs": [],
   "source": [
    "titles[:5]"
   ]
  },
  {
   "cell_type": "code",
   "execution_count": null,
   "id": "395d491e",
   "metadata": {},
   "outputs": [],
   "source": [
    "def get_movie_duration(doc):\n",
    "    \n",
    "    selection_class=\"runtime\"\n",
    "    movie_duration_tags=doc.find_all('span',{'class':selection_class})\n",
    "    movie_duration=[]\n",
    "\n",
    "    for tag in movie_duration_tags:\n",
    "        duration = tag.text[:-4]\n",
    "        movie_duration.append(duration)\n",
    "        \n",
    "        \n",
    "    return movie_duration"
   ]
  },
  {
   "cell_type": "code",
   "execution_count": null,
   "id": "de34afad",
   "metadata": {},
   "outputs": [],
   "source": [
    "duration = get_movie_duration(doc)"
   ]
  },
  {
   "cell_type": "code",
   "execution_count": null,
   "id": "b4662dbd",
   "metadata": {},
   "outputs": [],
   "source": [
    "duration[:5]"
   ]
  },
  {
   "cell_type": "code",
   "execution_count": null,
   "id": "b303080a",
   "metadata": {},
   "outputs": [],
   "source": [
    "def get_movie_url(doc):\n",
    "    \n",
    "    url_selector=\"lister-item-header\"\n",
    "    movie_url_tags=doc.find_all('h3',{'class':url_selector})\n",
    "    movie_url=[]\n",
    "    base_url = 'https://www.imdb.com/'\n",
    "        \n",
    "    for tag in movie_url_tags:\n",
    "         movie_url.append('https://www.imdb.com/' + tag.find('a')['href'])\n",
    "        \n",
    "        \n",
    "    return movie_url"
   ]
  },
  {
   "cell_type": "code",
   "execution_count": null,
   "id": "ce8f92f6",
   "metadata": {},
   "outputs": [],
   "source": [
    "urls = get_movie_url(doc)"
   ]
  },
  {
   "cell_type": "code",
   "execution_count": null,
   "id": "f27fb6c5",
   "metadata": {},
   "outputs": [],
   "source": [
    "urls[:5]"
   ]
  },
  {
   "cell_type": "code",
   "execution_count": null,
   "id": "8aa1a526",
   "metadata": {},
   "outputs": [],
   "source": [
    "def get_movie_certification(doc):\n",
    "    \n",
    "    selection_class=\"lister-item-content\"\n",
    "    movie_details_tags = doc.find_all('div',{'class':selection_class})\n",
    "    movie_certification=[]\n",
    "    \n",
    "\n",
    "    for detail_tag in movie_details_tags:\n",
    "        \n",
    "        certification_tag = detail_tag.find('span',{'class':'certificate'})\n",
    "        if certification_tag:\n",
    "            movie_certification.append(certification_tag.text)\n",
    "        else:\n",
    "            movie_certification.append('NA')                                                           \n",
    "        \n",
    "    return movie_certification"
   ]
  },
  {
   "cell_type": "code",
   "execution_count": null,
   "id": "25b9f213",
   "metadata": {},
   "outputs": [],
   "source": [
    "certifications = get_movie_certification(doc)"
   ]
  },
  {
   "cell_type": "code",
   "execution_count": null,
   "id": "999eec5a",
   "metadata": {},
   "outputs": [],
   "source": [
    "certifications[:5]"
   ]
  },
  {
   "cell_type": "code",
   "execution_count": null,
   "id": "09fd337a",
   "metadata": {},
   "outputs": [],
   "source": [
    "def get_movie_year(doc):\n",
    "    year_selector = \"lister-item-year text-muted unbold\"           \n",
    "    movie_year_tags=doc.find_all('span',{'class':year_selector})\n",
    "    movie_year_tagss=[]\n",
    "    for tag in movie_year_tags:\n",
    "        movie_year_tagss.append(tag.get_text().strip()[1:5])\n",
    "    return movie_year_tagss"
   ]
  },
  {
   "cell_type": "code",
   "execution_count": null,
   "id": "63b39e03",
   "metadata": {},
   "outputs": [],
   "source": [
    "years = get_movie_year(doc)"
   ]
  },
  {
   "cell_type": "code",
   "execution_count": null,
   "id": "7aeb8926",
   "metadata": {},
   "outputs": [],
   "source": [
    "years[:5]"
   ]
  },
  {
   "cell_type": "code",
   "execution_count": null,
   "id": "70e4b3cd",
   "metadata": {},
   "outputs": [],
   "source": [
    "def get_movie_genre(doc):\n",
    "    genre_selector=\"genre\"            \n",
    "    movie_genre_tags=doc.find_all('span',{'class':genre_selector})\n",
    "    movie_genre_tagss=[]\n",
    "    for tag in movie_genre_tags:\n",
    "        movie_genre_tagss.append(tag.get_text().strip())\n",
    "    return movie_genre_tagss"
   ]
  },
  {
   "cell_type": "code",
   "execution_count": null,
   "id": "a9b3d5ee",
   "metadata": {},
   "outputs": [],
   "source": [
    "genres = get_movie_genre(doc)"
   ]
  },
  {
   "cell_type": "code",
   "execution_count": null,
   "id": "6f7ea5e7",
   "metadata": {},
   "outputs": [],
   "source": [
    "genres[:5]\n"
   ]
  },
  {
   "cell_type": "code",
   "execution_count": null,
   "id": "432d4212",
   "metadata": {},
   "outputs": [],
   "source": [
    "def get_movie_rating(doc):\n",
    "    rating_selector=\"inline-block ratings-imdb-rating\"            \n",
    "    movie_rating_tags=doc.find_all('div',{'class':rating_selector})\n",
    "    movie_rating_tagss=[]\n",
    "    for tag in movie_rating_tags:\n",
    "        movie_rating_tagss.append(tag.get_text().strip())\n",
    "    return movie_rating_tagss"
   ]
  },
  {
   "cell_type": "code",
   "execution_count": null,
   "id": "7058f0b7",
   "metadata": {},
   "outputs": [],
   "source": [
    "ratings = get_movie_rating(doc)"
   ]
  },
  {
   "cell_type": "code",
   "execution_count": null,
   "id": "a54b3d22",
   "metadata": {},
   "outputs": [],
   "source": [
    "ratings[:5]"
   ]
  },
  {
   "cell_type": "code",
   "execution_count": null,
   "id": "0e1d8bad",
   "metadata": {},
   "outputs": [],
   "source": [
    "import pandas as pd"
   ]
  },
  {
   "cell_type": "code",
   "execution_count": null,
   "id": "5e7a005f",
   "metadata": {},
   "outputs": [],
   "source": [
    "def all_pages():\n",
    "    movies_dict={\n",
    "      'title':[],\n",
    "      'genre':[],\n",
    "      'duration':[],\n",
    "      'rating':[],\n",
    "      'year':[],\n",
    "      'certification':[],\n",
    "      'url':[]\n",
    "    \n",
    "    }\n",
    "    \n",
    "    for i in range(1,2000,100):\n",
    "        \n",
    "        try:\n",
    "            url= 'https://www.imdb.com/search/title/?groups=top_1000&sort=user_rating,desc&count=100&start='+str(i)+'&ref_=adv_next'\n",
    "            response = request.get(url)\n",
    "        except:\n",
    "            break\n",
    "        \n",
    "        if response.status_code != 200:\n",
    "            break\n",
    "        \n",
    "        \n",
    "        doc = BeautifulSoup(response.text, 'html.parser')\n",
    "        titles = get_movie_titles(doc)\n",
    "        urls = get_movie_url(doc)\n",
    "        certifications = get_movie_certification(doc)\n",
    "        ratings = get_movie_rating(doc)\n",
    "        durations = get_movie_duration(doc)\n",
    "        years = get_movie_year(doc)\n",
    "        genres = get_movie_genre(doc)\n",
    "        \n",
    "        for i in range (len(titles)):\n",
    "            movies_dict['title'].append(titles[i])\n",
    "            movies_dict['url'].append(urls[i])\n",
    "            movies_dict['genre'].append(genres[i])\n",
    "            movies_dict['duration'].append(durations[i])\n",
    "            movies_dict['rating'].append(ratings[i])\n",
    "            movies_dict['year'].append(years[i])\n",
    "            movies_dict['certification'].append(certifications[i])\n",
    "            \n",
    "    return pd.DataFrame(movies_dict)    "
   ]
  },
  {
   "cell_type": "code",
   "execution_count": null,
   "id": "2097e9d3",
   "metadata": {},
   "outputs": [],
   "source": [
    "#movies = all_pages()"
   ]
  },
  {
   "cell_type": "code",
   "execution_count": null,
   "id": "06cff390",
   "metadata": {},
   "outputs": [],
   "source": [
    "#movies.to_csv('movies.csv',index=None)"
   ]
  },
  {
   "cell_type": "code",
   "execution_count": null,
   "id": "df677aff",
   "metadata": {},
   "outputs": [],
   "source": [
    "movies_dict={\n",
    "    'title':titles,\n",
    "    'genre':genres,\n",
    "    'duration':duration,\n",
    "    'rating':ratings,\n",
    "    'year':years,\n",
    "    'certification':certifications,\n",
    "    'url':urls\n",
    "}"
   ]
  },
  {
   "cell_type": "code",
   "execution_count": null,
   "id": "959f7bbb",
   "metadata": {},
   "outputs": [],
   "source": [
    "df = pd.DataFrame(movies_dict)"
   ]
  },
  {
   "cell_type": "code",
   "execution_count": null,
   "id": "2ed855e7",
   "metadata": {},
   "outputs": [],
   "source": [
    "df.head()"
   ]
  },
  {
   "cell_type": "code",
   "execution_count": null,
   "id": "86db7451",
   "metadata": {},
   "outputs": [],
   "source": []
  }
 ],
 "metadata": {
  "kernelspec": {
   "display_name": "Python 3",
   "language": "python",
   "name": "python3"
  },
  "language_info": {
   "codemirror_mode": {
    "name": "ipython",
    "version": 3
   },
   "file_extension": ".py",
   "mimetype": "text/x-python",
   "name": "python",
   "nbconvert_exporter": "python",
   "pygments_lexer": "ipython3",
   "version": "3.8.8"
  }
 },
 "nbformat": 4,
 "nbformat_minor": 5
}
